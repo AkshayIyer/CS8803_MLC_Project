{
 "cells": [
  {
   "cell_type": "markdown",
   "id": "47b108fe-d6e1-4005-8911-e09897798efe",
   "metadata": {},
   "source": [
    "Based heavily on previous Materials Project dataset generation"
   ]
  },
  {
   "cell_type": "code",
   "execution_count": 1,
   "id": "7b86ab81-e11e-4549-a113-71b1ab41b2f8",
   "metadata": {},
   "outputs": [],
   "source": [
    "import periodictable\n",
    "import requests\n",
    "import numpy as np\n",
    "from ase import io, Atoms\n",
    "from ase.db import connect\n",
    "from pymatgen.io.ase import AseAtomsAdaptor\n",
    "from pymatgen.core.structure import Structure\n",
    "import json\n",
    "import matplotlib.pyplot as plt\n",
    "import matplotlib\n",
    "import pandas as pd"
   ]
  },
  {
   "cell_type": "code",
   "execution_count": 2,
   "id": "aff428c6-cecd-4093-a3da-027cd1bdd47d",
   "metadata": {},
   "outputs": [],
   "source": [
    "mp_base_url = \"https://api.materialsproject.org/\"\n",
    "headers = {\n",
    "    'accept': 'application/json',\n",
    "    'X-API-KEY': 'YOUR_API_KEY_HERE',\n",
    "}"
   ]
  },
  {
   "cell_type": "code",
   "execution_count": 3,
   "id": "b4b1eba7-bbc8-466d-bd85-3bc2ffe501cc",
   "metadata": {},
   "outputs": [
    {
     "name": "stdout",
     "output_type": "stream",
     "text": [
      "0\n",
      "1\n",
      "2\n",
      "3\n",
      "4\n",
      "5\n",
      "6\n",
      "7\n",
      "8\n"
     ]
    }
   ],
   "source": [
    "data = np.array(list())\n",
    "done = False\n",
    "pg = 0\n",
    "while not done:\n",
    "    print(pg)\n",
    "    query = {\n",
    "      'e_total_min': 0.0,\n",
    "      '_limit': 1000,\n",
    "      '_skip': 1000 * pg,\n",
    "      '_fields': 'elements,structure,e_total,e_ionic,e_electronic'\n",
    "    }\n",
    "\n",
    "    response_pg = requests.get(mp_base_url + \"summary\", \n",
    "                             params = query, headers = headers)\n",
    "    data_pg = response_pg.json()['data']\n",
    "    if len(data_pg) == 0:\n",
    "        done = True\n",
    "    else:\n",
    "        data = np.append(data, data_pg)\n",
    "    pg = pg + 1"
   ]
  },
  {
   "cell_type": "code",
   "execution_count": 4,
   "id": "cbf0b5da-73d8-4ad6-baa7-fdeb299fd2b4",
   "metadata": {},
   "outputs": [
    {
     "data": {
      "text/plain": [
       "7290"
      ]
     },
     "execution_count": 4,
     "metadata": {},
     "output_type": "execute_result"
    }
   ],
   "source": [
    "len(data)"
   ]
  },
  {
   "cell_type": "code",
   "execution_count": 5,
   "id": "26e299ab-950d-4b79-b205-366f1818882c",
   "metadata": {},
   "outputs": [],
   "source": [
    "non_zero_contribs_data = list(filter(lambda d: 10 ** -1 <= d['e_ionic'] <= 10 ** 3 and 10 ** -1 <= d['e_electronic'] <= 10 ** 2.25, data))"
   ]
  },
  {
   "cell_type": "code",
   "execution_count": 6,
   "id": "08008eda-abd2-4dcd-8143-b0ed79810879",
   "metadata": {},
   "outputs": [
    {
     "data": {
      "text/plain": [
       "0.9906721536351166"
      ]
     },
     "execution_count": 6,
     "metadata": {},
     "output_type": "execute_result"
    }
   ],
   "source": [
    "len(non_zero_contribs_data) / len(data)"
   ]
  },
  {
   "cell_type": "code",
   "execution_count": 7,
   "id": "860705a7-66d1-4e5d-8b29-3fa28d942664",
   "metadata": {},
   "outputs": [
    {
     "data": {
      "text/plain": [
       "-64.8373324933333"
      ]
     },
     "execution_count": 7,
     "metadata": {},
     "output_type": "execute_result"
    }
   ],
   "source": [
    "np.min([d['e_electronic'] for d in data])"
   ]
  },
  {
   "cell_type": "code",
   "execution_count": 8,
   "id": "f4bd26ae-9870-4362-b302-fec0cddddcae",
   "metadata": {},
   "outputs": [
    {
     "data": {
      "image/png": "[encoded data removed]",
      "text/plain": [
       "<Figure size 432x288 with 2 Axes>"
      ]
     },
     "metadata": {
      "needs_background": "light"
     },
     "output_type": "display_data"
    }
   ],
   "source": [
    "e_ionic = [np.log10(d['e_ionic']) for d in non_zero_contribs_data]\n",
    "e_electronic = [np.log10(d['e_electronic']) for d in non_zero_contribs_data]\n",
    "plt.hist2d(e_electronic, e_ionic, bins = 50)\n",
    "plt.xlabel('log Electronic Dielectric Constant')\n",
    "plt.ylabel('log Ionic Dielectric Constant');\n",
    "plt.colorbar().ax.set_ylabel(\"# of Structures\");\n",
    "plt.savefig('ion_electron_contribs.png')\n",
    "plt.show()"
   ]
  },
  {
   "cell_type": "code",
   "execution_count": 9,
   "id": "82168abd-1fbb-4b55-a067-0ab7bd1d7bc0",
   "metadata": {},
   "outputs": [
    {
     "data": {
      "image/png": "[encoded data removed]",
      "text/plain": [
       "<Figure size 432x288 with 1 Axes>"
      ]
     },
     "metadata": {
      "needs_background": "light"
     },
     "output_type": "display_data"
    }
   ],
   "source": [
    "plt.hist([np.log10(d['e_total']) for d in data], bins = 100);\n",
    "plt.xlabel('log Total Dielectric Constant')\n",
    "plt.ylabel('# of Structures');\n",
    "plt.savefig('total_k_hist.png')\n",
    "plt.show()"
   ]
  },
  {
   "cell_type": "code",
   "execution_count": 10,
   "id": "154077aa-bfd4-4047-9e0c-2576c525d447",
   "metadata": {},
   "outputs": [],
   "source": [
    "counts = np.zeros(118)\n",
    "for i in range(1, 118):\n",
    "    for d in data:\n",
    "        if periodictable.elements[i].symbol in d['elements']:\n",
    "            counts[i - 1] += 1"
   ]
  },
  {
   "cell_type": "code",
   "execution_count": 11,
   "id": "73268f90-167b-4599-aab5-be36661cf691",
   "metadata": {},
   "outputs": [],
   "source": [
    "el_locs = [\n",
    "    (1, 1),\n",
    "    (18, 1),\n",
    "    (1, 2),\n",
    "    (2, 2),\n",
    "    (13, 2),\n",
    "    (14, 2),\n",
    "    (15, 2),\n",
    "    (16, 2),\n",
    "    (17, 2),\n",
    "    (18, 2),\n",
    "    (1, 3),\n",
    "    (2, 3),\n",
    "    (13, 3),\n",
    "    (14, 3),\n",
    "    (15, 3),\n",
    "    (16, 3),\n",
    "    (17, 3),\n",
    "    (18, 3),\n",
    "    (1, 4),\n",
    "    (2, 4),\n",
    "    (3, 4),\n",
    "    (4, 4),\n",
    "    (5, 4),\n",
    "    (6, 4),\n",
    "    (7, 4),\n",
    "    (8, 4),\n",
    "    (9, 4),\n",
    "    (10, 4),\n",
    "    (11, 4),\n",
    "    (12, 4),\n",
    "    (13, 4),\n",
    "    (14, 4),\n",
    "    (15, 4),\n",
    "    (16, 4),\n",
    "    (17, 4),\n",
    "    (18, 4),\n",
    "    (1, 5),\n",
    "    (2, 5),\n",
    "    (3, 5),\n",
    "    (4, 5),\n",
    "    (5, 5),\n",
    "    (6, 5),\n",
    "    (7, 5),\n",
    "    (8, 5),\n",
    "    (9, 5),\n",
    "    (10, 5),\n",
    "    (11, 5),\n",
    "    (12, 5),\n",
    "    (13, 5),\n",
    "    (14, 5),\n",
    "    (15, 5),\n",
    "    (16, 5),\n",
    "    (17, 5),\n",
    "    (18, 5),\n",
    "    (1, 6),\n",
    "    (2, 6),\n",
    "    (4, 8),\n",
    "    (5, 8),\n",
    "    (6, 8),\n",
    "    (7, 8),\n",
    "    (8, 8),\n",
    "    (9, 8),\n",
    "    (10, 8),\n",
    "    (11, 8),\n",
    "    (12, 8),\n",
    "    (13, 8),\n",
    "    (14, 8),\n",
    "    (15, 8),\n",
    "    (16, 8),\n",
    "    (17, 8),\n",
    "    (18, 8),\n",
    "    (4, 6),\n",
    "    (5, 6),\n",
    "    (6, 6),\n",
    "    (7, 6),\n",
    "    (8, 6),\n",
    "    (9, 6),\n",
    "    (10, 6),\n",
    "    (11, 6),\n",
    "    (12, 6),\n",
    "    (13, 6),\n",
    "    (14, 6),\n",
    "    (15, 6),\n",
    "    (16, 6),\n",
    "    (17, 6),\n",
    "    (18, 6),\n",
    "    (1, 7),\n",
    "    (2, 7),\n",
    "    (4, 9),\n",
    "    (5, 9),\n",
    "    (6, 9),\n",
    "    (7, 9),\n",
    "    (8, 9),\n",
    "    (9, 9),\n",
    "    (10, 9),\n",
    "    (11, 9),\n",
    "    (12, 9),\n",
    "    (13, 9),\n",
    "    (14, 9),\n",
    "    (15, 9),\n",
    "    (16, 9),\n",
    "    (17, 9),\n",
    "    (18, 9),\n",
    "    (4, 7),\n",
    "    (5, 7),\n",
    "    (6, 7),\n",
    "    (7, 7),\n",
    "    (8, 7),\n",
    "    (9, 7),\n",
    "    (10, 7),\n",
    "    (11, 7),\n",
    "    (12, 7),\n",
    "    (13, 7),\n",
    "    (14, 7),\n",
    "    (15, 7),\n",
    "    (16, 7),\n",
    "    (17, 7),\n",
    "    (18, 7),\n",
    "]"
   ]
  },
  {
   "cell_type": "code",
   "execution_count": 12,
   "id": "a08ffbd7-7078-4cf7-99a4-8c3d6093ed12",
   "metadata": {},
   "outputs": [
    {
     "data": {
      "image/png": "[encoded data removed]",
      "text/plain": [
       "<Figure size 432x288 with 1 Axes>"
      ]
     },
     "metadata": {
      "needs_background": "light"
     },
     "output_type": "display_data"
    }
   ],
   "source": [
    "plt.hist([len(d['structure']['sites']) for d in data], bins = 50, log = False);\n",
    "plt.xlabel('# of Sites')\n",
    "plt.ylabel('# of Structures')\n",
    "plt.savefig('sites_hist.png')\n",
    "plt.show()"
   ]
  },
  {
   "cell_type": "code",
   "execution_count": 13,
   "id": "65999b84-3686-48cd-8963-33e505f9fa81",
   "metadata": {},
   "outputs": [
    {
     "name": "stderr",
     "output_type": "stream",
     "text": [
      "/tmp/ipykernel_8716/4120331562.py:10: RuntimeWarning: divide by zero encountered in log10\n",
      "  nmaxlog = np.max(np.log10(counts))\n"
     ]
    },
    {
     "data": {
      "image/png": "[encoded data removed]",
      "text/plain": [
       "<Figure size 432x288 with 2 Axes>"
      ]
     },
     "metadata": {
      "needs_background": "light"
     },
     "output_type": "display_data"
    }
   ],
   "source": [
    "# https://matplotlib.org/stable/gallery/statistics/errorbars_and_boxes.html#sphx-glr-gallery-statistics-errorbars-and-boxes-py\n",
    "# https://matplotlib.org/stable/gallery/subplots_axes_and_figures/axis_labels_demo.html#sphx-glr-gallery-subplots-axes-and-figures-axis-labels-demo-py\n",
    "# https://stackoverflow.com/questions/9295026/how-to-remove-axis-legends-and-white-padding\n",
    "# https://towardsdatascience.com/save-plots-matplotlib-1a16b3432d8a\n",
    "from matplotlib.collections import PatchCollection\n",
    "from matplotlib.patches import Rectangle\n",
    "\n",
    "size = 0.8\n",
    "viridis = matplotlib.colormaps['viridis']\n",
    "nmaxlog = np.max(np.log10(counts))\n",
    "colors = [viridis(np.log10(counts[i]) / nmaxlog) if counts[i] > 0 else 'grey' for i in range(118)]\n",
    "\n",
    "# Create figure and axes\n",
    "fig, ax = plt.subplots(1)\n",
    "\n",
    "sc = ax.scatter([0.5 + el_locs[i][0] for i in range(118)], \n",
    "                [9.5 - el_locs[i][1] for i in range(118)], \n",
    "                c=colors)\n",
    "\n",
    "errorboxes = [Rectangle((el_locs[i][0], 9 - el_locs[i][1]), size, size) for i in range(118)]\n",
    "pc = PatchCollection(errorboxes, facecolor=colors, edgecolors = ['r' if counts[i] < 100 else 'none' for i in range(118)])\n",
    "ax.add_collection(pc)\n",
    "\n",
    "fig.colorbar(matplotlib.cm.ScalarMappable(cmap=viridis, norm=matplotlib.colors.Normalize(vmin=0, vmax=nmaxlog))).ax.set_ylabel(\"log # of Structures\")\n",
    "\n",
    "for i in range(118):\n",
    "    ax.annotate(periodictable.elements[i + 1].symbol, xy=(el_locs[i][0] + size / 2, 9 - el_locs[i][1] + size / 2), va=\"center\", ha=\"center\", c = 'w', size = 8)\n",
    "\n",
    "plt.axis('off')\n",
    "plt.xlim([0, 19])\n",
    "plt.ylim([-0.5, 9.5])\n",
    "plt.savefig('ptable.png')\n",
    "plt.show()"
   ]
  },
  {
   "cell_type": "code",
   "execution_count": 14,
   "id": "62e3e99a-fa1c-4e48-9ac7-76b331014bbe",
   "metadata": {},
   "outputs": [],
   "source": [
    "filtered_data = list(filter(lambda d: not(\n",
    "    'Tc' in d['elements'] or\n",
    "    'Ru' in d['elements'] or\n",
    "    'Rh' in d['elements'] or\n",
    "    'Xe' in d['elements'] or\n",
    "    'Hf' in d['elements'] or\n",
    "    'Re' in d['elements'] or\n",
    "    'Os' in d['elements'] or\n",
    "    'Ir' in d['elements'] or\n",
    "    'Ce' in d['elements'] or\n",
    "    'Pr' in d['elements'] or\n",
    "    'Nd' in d['elements'] or\n",
    "    'Sm' in d['elements'] or\n",
    "    'Eu' in d['elements'] or\n",
    "    'Gd' in d['elements'] or\n",
    "    'Tb' in d['elements'] or\n",
    "    'Dy' in d['elements'] or\n",
    "    'Ho' in d['elements'] or\n",
    "    'Er' in d['elements'] or\n",
    "    'Tm' in d['elements'] or\n",
    "    'Yb' in d['elements'] or\n",
    "    'Lu' in d['elements'] or\n",
    "    'Ac' in d['elements'] or\n",
    "    'Th' in d['elements'] or\n",
    "    'U' in d['elements']), data))"
   ]
  },
  {
   "cell_type": "code",
   "execution_count": 15,
   "id": "b0301a18-a79b-45ec-8cd3-ab39755c3f7b",
   "metadata": {},
   "outputs": [
    {
     "data": {
      "text/plain": [
       "6710"
      ]
     },
     "execution_count": 15,
     "metadata": {},
     "output_type": "execute_result"
    }
   ],
   "source": [
    "len(filtered_data)"
   ]
  },
  {
   "cell_type": "code",
   "execution_count": 16,
   "id": "90d728ca-3e55-43e0-a1d8-f11a5451c907",
   "metadata": {},
   "outputs": [
    {
     "name": "stderr",
     "output_type": "stream",
     "text": [
      "/tmp/ipykernel_8716/2013523353.py:16: RuntimeWarning: divide by zero encountered in log10\n",
      "  nmaxlog = np.max(np.log10(counts))\n"
     ]
    },
    {
     "data": {
      "image/png": "[encoded data removed]",
      "text/plain": [
       "<Figure size 432x288 with 2 Axes>"
      ]
     },
     "metadata": {
      "needs_background": "light"
     },
     "output_type": "display_data"
    }
   ],
   "source": [
    "counts = np.zeros(118)\n",
    "for i in range(1, 118):\n",
    "    for d in filtered_data:\n",
    "        if periodictable.elements[i].symbol in d['elements']:\n",
    "            counts[i - 1] += 1\n",
    "\n",
    "# https://matplotlib.org/stable/gallery/statistics/errorbars_and_boxes.html#sphx-glr-gallery-statistics-errorbars-and-boxes-py\n",
    "# https://matplotlib.org/stable/gallery/subplots_axes_and_figures/axis_labels_demo.html#sphx-glr-gallery-subplots-axes-and-figures-axis-labels-demo-py\n",
    "# https://stackoverflow.com/questions/9295026/how-to-remove-axis-legends-and-white-padding\n",
    "# https://towardsdatascience.com/save-plots-matplotlib-1a16b3432d8a\n",
    "from matplotlib.collections import PatchCollection\n",
    "from matplotlib.patches import Rectangle\n",
    "\n",
    "size = 0.8\n",
    "viridis = matplotlib.colormaps['viridis']\n",
    "nmaxlog = np.max(np.log10(counts))\n",
    "colors = [viridis(np.log10(counts[i]) / nmaxlog) if counts[i] > 0 else 'grey' for i in range(118)]\n",
    "\n",
    "# Create figure and axes\n",
    "fig, ax = plt.subplots(1)\n",
    "\n",
    "sc = ax.scatter([0.5 + el_locs[i][0] for i in range(118)], \n",
    "                [9.5 - el_locs[i][1] for i in range(118)], \n",
    "                c=colors)\n",
    "\n",
    "errorboxes = [Rectangle((el_locs[i][0], 9 - el_locs[i][1]), size, size) for i in range(118)]\n",
    "pc = PatchCollection(errorboxes, facecolor=colors, edgecolors = ['r' if counts[i] < 100 else 'none' for i in range(118)])\n",
    "ax.add_collection(pc)\n",
    "\n",
    "fig.colorbar(matplotlib.cm.ScalarMappable(cmap=viridis, norm=matplotlib.colors.Normalize(vmin=0, vmax=nmaxlog))).ax.set_ylabel(\"log # of Structures\")\n",
    "\n",
    "for i in range(118):\n",
    "    ax.annotate(periodictable.elements[i + 1].symbol, xy=(el_locs[i][0] + size / 2, 9 - el_locs[i][1] + size / 2), va=\"center\", ha=\"center\", c = 'w', size = 8)\n",
    "\n",
    "plt.axis('off')\n",
    "plt.xlim([0, 19])\n",
    "plt.ylim([-0.5, 9.5])\n",
    "plt.savefig('ptable.png')\n",
    "plt.show()"
   ]
  },
  {
   "cell_type": "code",
   "execution_count": 19,
   "id": "7404f54e-663c-4a47-ba1d-5f8118400e71",
   "metadata": {},
   "outputs": [
    {
     "data": {
      "image/png": "[encoded data removed]",
      "text/plain": [
       "<Figure size 432x288 with 2 Axes>"
      ]
     },
     "metadata": {
      "needs_background": "light"
     },
     "output_type": "display_data"
    }
   ],
   "source": [
    "filtered_non_zero_contribs_data = list(filter(lambda d: 10 ** -1 <= d['e_ionic'] <= 10 ** 3 and 10 ** -1 <= d['e_electronic'] <= 10 ** 2.25, \n",
    "                                              filtered_data))\n",
    "e_ionic = [np.log10(d['e_ionic']) for d in filtered_non_zero_contribs_data]\n",
    "e_electronic = [np.log10(d['e_electronic']) for d in filtered_non_zero_contribs_data]\n",
    "plt.hist2d(e_electronic, e_ionic, bins = 50)\n",
    "plt.xlabel('log Electronic Dielectric Constant')\n",
    "plt.ylabel('log Ionic Dielectric Constant');\n",
    "plt.colorbar().ax.set_ylabel(\"# of Structures\");\n",
    "plt.savefig('filtered_ion_electron_contribs.png')\n",
    "plt.show()"
   ]
  },
  {
   "cell_type": "code",
   "execution_count": 21,
   "id": "f88b6313-f620-4423-98ac-251d53fddfe7",
   "metadata": {},
   "outputs": [
    {
     "data": {
      "text/plain": [
       "0.990909090909091"
      ]
     },
     "execution_count": 21,
     "metadata": {},
     "output_type": "execute_result"
    }
   ],
   "source": [
    "len(filtered_non_zero_contribs_data) / len(filtered_data)"
   ]
  },
  {
   "cell_type": "code",
   "execution_count": 18,
   "id": "da641adb-5c4b-4a76-afcc-e4a676059cad",
   "metadata": {},
   "outputs": [],
   "source": [
    "data_indices = np.random.permutation(np.arange(len(filtered_data)))\n",
    "train_indices = data_indices[:int(np.floor(0.8 * len(filtered_data)))]\n",
    "val_indices = data_indices[int(np.floor(0.8 * len(filtered_data))):int(np.floor(0.9 * len(filtered_data)))]\n",
    "test_indices = data_indices[int(np.floor(0.9 * len(filtered_data))):]"
   ]
  },
  {
   "cell_type": "code",
   "execution_count": 22,
   "id": "8796f9b1-e616-441c-9b44-9e3b3c5de602",
   "metadata": {},
   "outputs": [],
   "source": [
    "# Adapted from Dr. Fung's code\n",
    "data_list=[]\n",
    "adaptor = AseAtomsAdaptor()\n",
    "for i in train_indices:\n",
    "    ase_crystal = adaptor.get_atoms(\n",
    "        Structure.from_dict(filtered_data[i]['structure']))\n",
    "    positions = ase_crystal.get_positions().tolist()\n",
    "    cell = ase_crystal.get_cell().tolist()\n",
    "    atomic_numbers = ase_crystal.get_atomic_numbers().tolist()\n",
    "\n",
    "    data_dict = {\n",
    "        'structure_id': str(i),\n",
    "        'positions': positions,\n",
    "        'cell': cell,\n",
    "        'atomic_numbers': atomic_numbers,\n",
    "        'y': [np.log10(filtered_data[i]['e_total'])],\n",
    "    }\n",
    "    data_list.append(data_dict)\n",
    "\n",
    "with open('./train_data.json', 'w') as f:\n",
    "    json.dump(data_list , f)"
   ]
  },
  {
   "cell_type": "code",
   "execution_count": 23,
   "id": "78db6fcd-82bc-48b8-b2bf-88ebfb201e5b",
   "metadata": {},
   "outputs": [],
   "source": [
    "# Adapted from Dr. Fung's code\n",
    "data_list=[]\n",
    "adaptor = AseAtomsAdaptor()\n",
    "for i in val_indices:\n",
    "    ase_crystal = adaptor.get_atoms(\n",
    "        Structure.from_dict(filtered_data[i]['structure']))\n",
    "    positions = ase_crystal.get_positions().tolist()\n",
    "    cell = ase_crystal.get_cell().tolist()\n",
    "    atomic_numbers = ase_crystal.get_atomic_numbers().tolist()\n",
    "\n",
    "    data_dict = {\n",
    "        'structure_id': str(i),\n",
    "        'positions': positions,\n",
    "        'cell': cell,\n",
    "        'atomic_numbers': atomic_numbers,\n",
    "        'y': [np.log10(filtered_data[i]['e_total'])],\n",
    "    }\n",
    "    data_list.append(data_dict)\n",
    "\n",
    "with open('./val_data.json', 'w') as f:\n",
    "    json.dump(data_list , f)"
   ]
  },
  {
   "cell_type": "code",
   "execution_count": 24,
   "id": "73d0688b-3f6a-4865-8b6a-79b84682a457",
   "metadata": {},
   "outputs": [],
   "source": [
    "# Adapted from Dr. Fung's code\n",
    "data_list=[]\n",
    "adaptor = AseAtomsAdaptor()\n",
    "for i in test_indices:\n",
    "    ase_crystal = adaptor.get_atoms(\n",
    "        Structure.from_dict(filtered_data[i]['structure']))\n",
    "    positions = ase_crystal.get_positions().tolist()\n",
    "    cell = ase_crystal.get_cell().tolist()\n",
    "    atomic_numbers = ase_crystal.get_atomic_numbers().tolist()\n",
    "\n",
    "    data_dict = {\n",
    "        'structure_id': str(i),\n",
    "        'positions': positions,\n",
    "        'cell': cell,\n",
    "        'atomic_numbers': atomic_numbers,\n",
    "        'y': [np.log10(filtered_data[i]['e_total'])],\n",
    "    }\n",
    "    data_list.append(data_dict)\n",
    "\n",
    "with open('./test_data.json', 'w') as f:\n",
    "    json.dump(data_list , f)"
   ]
  }
 ],
 "metadata": {
  "kernelspec": {
   "display_name": "Python 3 (ipykernel)",
   "language": "python",
   "name": "python3"
  },
  "language_info": {
   "codemirror_mode": {
    "name": "ipython",
    "version": 3
   },
   "file_extension": ".py",
   "mimetype": "text/x-python",
   "name": "python",
   "nbconvert_exporter": "python",
   "pygments_lexer": "ipython3",
   "version": "3.9.12"
  }
 },
 "nbformat": 4,
 "nbformat_minor": 5
}
