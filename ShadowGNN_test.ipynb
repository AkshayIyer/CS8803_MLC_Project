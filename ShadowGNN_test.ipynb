{
  "cells": [
    {
      "cell_type": "markdown",
      "metadata": {
        "id": "8wHTK_7IjIEg"
      },
      "source": [
        "## **Installation**"
      ]
    },
    {
      "cell_type": "markdown",
      "metadata": {
        "collapsed": false,
        "id": "R12u-UohnBid"
      },
      "source": [
        "Based heavily on the [https://github.com/Fung-Lab/MatDeepLearn_dev/](https://github.com/Fung-Lab/MatDeepLearn_dev/) tutorial"
      ]
    },
    {
      "cell_type": "markdown",
      "metadata": {
        "id": "F8tZmlwFULDJ"
      },
      "source": [
        "### Runtime"
      ]
    },
    {
      "cell_type": "markdown",
      "metadata": {
        "id": "uhMUkc1GUQ47"
      },
      "source": [
        "For the purpose of the demo, we recommend you use GPU on Google Colab, although it is not required.\n",
        "\n",
        "Google Colab provides access to 1 GPU (Runtime -> Change runtime type -> select GPU)."
      ]
    },
    {
      "cell_type": "markdown",
      "metadata": {
        "id": "byczXMtRQ7nj"
      },
      "source": [
        "### MatDeepLearn Set-Up"
      ]
    },
    {
      "cell_type": "markdown",
      "metadata": {
        "id": "x61oTV8oRbAA"
      },
      "source": [
        "Install the required dependencies (ignore torchvision, torchtext, and torchaudio errors - these packages are not used)"
      ]
    },
    {
      "cell_type": "code",
      "execution_count": null,
      "metadata": {
        "colab": {
          "base_uri": "https://localhost:8080/"
        },
        "id": "W260O-Twlmjw",
        "outputId": "21d3e79c-dd27-4af4-d76d-dafd13b50d02"
      },
      "outputs": [
        {
          "name": "stdout",
          "output_type": "stream",
          "text": [
            "Looking in indexes: https://pypi.org/simple, https://us-python.pkg.dev/colab-wheels/public/simple/\n",
            "Looking in links: https://download.pytorch.org/whl/torch_stable.html\n",
            "Collecting torch==1.12.1+cu113\n",
            "  Downloading https://download.pytorch.org/whl/cu113/torch-1.12.1%2Bcu113-cp39-cp39-linux_x86_64.whl (1837.7 MB)\n",
            "\u001b[2K     \u001b[90m━━━━━━━━━━━━━━━━━━━━━━━━━━━━━━━━━━━━━━━━\u001b[0m \u001b[32m1.8/1.8 GB\u001b[0m \u001b[31m969.8 kB/s\u001b[0m eta \u001b[36m0:00:00\u001b[0m\n",
            "\u001b[?25hRequirement already satisfied: typing-extensions in /usr/local/lib/python3.9/dist-packages (from torch==1.12.1+cu113) (4.5.0)\n",
            "Installing collected packages: torch\n",
            "  Attempting uninstall: torch\n",
            "    Found existing installation: torch 2.0.0+cu118\n",
            "    Uninstalling torch-2.0.0+cu118:\n",
            "      Successfully uninstalled torch-2.0.0+cu118\n",
            "\u001b[31mERROR: pip's dependency resolver does not currently take into account all the packages that are installed. This behaviour is the source of the following dependency conflicts.\n",
            "torchvision 0.15.1+cu118 requires torch==2.0.0, but you have torch 1.12.1+cu113 which is incompatible.\n",
            "torchtext 0.15.1 requires torch==2.0.0, but you have torch 1.12.1+cu113 which is incompatible.\n",
            "torchdata 0.6.0 requires torch==2.0.0, but you have torch 1.12.1+cu113 which is incompatible.\n",
            "torchaudio 2.0.1+cu118 requires torch==2.0.0, but you have torch 1.12.1+cu113 which is incompatible.\u001b[0m\u001b[31m\n",
            "\u001b[0mSuccessfully installed torch-1.12.1+cu113\n"
          ]
        }
      ],
      "source": [
        "!pip install torch==1.12.1+cu113 -f https://download.pytorch.org/whl/torch_stable.html "
      ]
    },
    {
      "cell_type": "code",
      "execution_count": null,
      "metadata": {
        "colab": {
          "base_uri": "https://localhost:8080/"
        },
        "id": "IXhTPc24rZDd",
        "outputId": "e5ac66ae-c2f3-4e7e-b660-10dc8d7498d1"
      },
      "outputs": [
        {
          "name": "stdout",
          "output_type": "stream",
          "text": [
            "Looking in indexes: https://pypi.org/simple, https://us-python.pkg.dev/colab-wheels/public/simple/\n",
            "Collecting ase==3.21.*\n",
            "  Downloading ase-3.21.1-py3-none-any.whl (2.2 MB)\n",
            "\u001b[2K     \u001b[90m━━━━━━━━━━━━━━━━━━━━━━━━━━━━━━━━━━━━━━━━\u001b[0m \u001b[32m2.2/2.2 MB\u001b[0m \u001b[31m52.9 MB/s\u001b[0m eta \u001b[36m0:00:00\u001b[0m\n",
            "\u001b[?25hRequirement already satisfied: scipy>=0.18.1 in /usr/local/lib/python3.9/dist-packages (from ase==3.21.*) (1.10.1)\n",
            "Requirement already satisfied: numpy>=1.11.3 in /usr/local/lib/python3.9/dist-packages (from ase==3.21.*) (1.22.4)\n",
            "Requirement already satisfied: matplotlib>=2.0.0 in /usr/local/lib/python3.9/dist-packages (from ase==3.21.*) (3.7.1)\n",
            "Requirement already satisfied: pillow>=6.2.0 in /usr/local/lib/python3.9/dist-packages (from matplotlib>=2.0.0->ase==3.21.*) (8.4.0)\n",
            "Requirement already satisfied: importlib-resources>=3.2.0 in /usr/local/lib/python3.9/dist-packages (from matplotlib>=2.0.0->ase==3.21.*) (5.12.0)\n",
            "Requirement already satisfied: cycler>=0.10 in /usr/local/lib/python3.9/dist-packages (from matplotlib>=2.0.0->ase==3.21.*) (0.11.0)\n",
            "Requirement already satisfied: contourpy>=1.0.1 in /usr/local/lib/python3.9/dist-packages (from matplotlib>=2.0.0->ase==3.21.*) (1.0.7)\n",
            "Requirement already satisfied: python-dateutil>=2.7 in /usr/local/lib/python3.9/dist-packages (from matplotlib>=2.0.0->ase==3.21.*) (2.8.2)\n",
            "Requirement already satisfied: fonttools>=4.22.0 in /usr/local/lib/python3.9/dist-packages (from matplotlib>=2.0.0->ase==3.21.*) (4.39.3)\n",
            "Requirement already satisfied: packaging>=20.0 in /usr/local/lib/python3.9/dist-packages (from matplotlib>=2.0.0->ase==3.21.*) (23.1)\n",
            "Requirement already satisfied: kiwisolver>=1.0.1 in /usr/local/lib/python3.9/dist-packages (from matplotlib>=2.0.0->ase==3.21.*) (1.4.4)\n",
            "Requirement already satisfied: pyparsing>=2.3.1 in /usr/local/lib/python3.9/dist-packages (from matplotlib>=2.0.0->ase==3.21.*) (3.0.9)\n",
            "Requirement already satisfied: zipp>=3.1.0 in /usr/local/lib/python3.9/dist-packages (from importlib-resources>=3.2.0->matplotlib>=2.0.0->ase==3.21.*) (3.15.0)\n",
            "Requirement already satisfied: six>=1.5 in /usr/local/lib/python3.9/dist-packages (from python-dateutil>=2.7->matplotlib>=2.0.0->ase==3.21.*) (1.16.0)\n",
            "Installing collected packages: ase\n",
            "Successfully installed ase-3.21.1\n"
          ]
        }
      ],
      "source": [
        "!pip install ase==3.21.*"
      ]
    },
    {
      "cell_type": "code",
      "execution_count": null,
      "metadata": {
        "colab": {
          "base_uri": "https://localhost:8080/"
        },
        "id": "ZZ7loaK0rVah",
        "outputId": "2bf6d6e3-b674-4416-cde1-fbe8684a4fc1"
      },
      "outputs": [
        {
          "name": "stdout",
          "output_type": "stream",
          "text": [
            "Looking in indexes: https://pypi.org/simple, https://us-python.pkg.dev/colab-wheels/public/simple/\n",
            "Looking in links: https://data.pyg.org/whl/torch-1.12.0+cu113.html\n",
            "Collecting torch-scatter\n",
            "  Downloading torch_scatter-2.1.1.tar.gz (107 kB)\n",
            "\u001b[2K     \u001b[90m━━━━━━━━━━━━━━━━━━━━━━━━━━━━━━━━━━━━━━\u001b[0m \u001b[32m107.6/107.6 kB\u001b[0m \u001b[31m11.1 MB/s\u001b[0m eta \u001b[36m0:00:00\u001b[0m\n",
            "\u001b[?25h  Preparing metadata (setup.py) ... \u001b[?25l\u001b[?25hdone\n",
            "Collecting torch-sparse\n",
            "  Downloading torch_sparse-0.6.17.tar.gz (209 kB)\n",
            "\u001b[2K     \u001b[90m━━━━━━━━━━━━━━━━━━━━━━━━━━━━━━━━━━━━━━\u001b[0m \u001b[32m209.2/209.2 kB\u001b[0m \u001b[31m22.4 MB/s\u001b[0m eta \u001b[36m0:00:00\u001b[0m\n",
            "\u001b[?25h  Preparing metadata (setup.py) ... \u001b[?25l\u001b[?25hdone\n",
            "Collecting torch-geometric\n",
            "  Downloading torch_geometric-2.3.0.tar.gz (616 kB)\n",
            "\u001b[2K     \u001b[90m━━━━━━━━━━━━━━━━━━━━━━━━━━━━━━━━━━━━━━\u001b[0m \u001b[32m616.2/616.2 kB\u001b[0m \u001b[31m20.3 MB/s\u001b[0m eta \u001b[36m0:00:00\u001b[0m\n",
            "\u001b[?25h  Installing build dependencies ... \u001b[?25l\u001b[?25hdone\n",
            "  Getting requirements to build wheel ... \u001b[?25l\u001b[?25hdone\n",
            "  Preparing metadata (pyproject.toml) ... \u001b[?25l\u001b[?25hdone\n",
            "Requirement already satisfied: scipy in /usr/local/lib/python3.9/dist-packages (from torch-sparse) (1.10.1)\n",
            "Requirement already satisfied: numpy in /usr/local/lib/python3.9/dist-packages (from torch-geometric) (1.22.4)\n",
            "Requirement already satisfied: jinja2 in /usr/local/lib/python3.9/dist-packages (from torch-geometric) (3.1.2)\n",
            "Requirement already satisfied: pyparsing in /usr/local/lib/python3.9/dist-packages (from torch-geometric) (3.0.9)\n",
            "Requirement already satisfied: requests in /usr/local/lib/python3.9/dist-packages (from torch-geometric) (2.27.1)\n",
            "Requirement already satisfied: psutil>=5.8.0 in /usr/local/lib/python3.9/dist-packages (from torch-geometric) (5.9.5)\n",
            "Requirement already satisfied: scikit-learn in /usr/local/lib/python3.9/dist-packages (from torch-geometric) (1.2.2)\n",
            "Requirement already satisfied: tqdm in /usr/local/lib/python3.9/dist-packages (from torch-geometric) (4.65.0)\n",
            "Requirement already satisfied: MarkupSafe>=2.0 in /usr/local/lib/python3.9/dist-packages (from jinja2->torch-geometric) (2.1.2)\n",
            "Requirement already satisfied: certifi>=2017.4.17 in /usr/local/lib/python3.9/dist-packages (from requests->torch-geometric) (2022.12.7)\n",
            "Requirement already satisfied: charset-normalizer~=2.0.0 in /usr/local/lib/python3.9/dist-packages (from requests->torch-geometric) (2.0.12)\n",
            "Requirement already satisfied: urllib3<1.27,>=1.21.1 in /usr/local/lib/python3.9/dist-packages (from requests->torch-geometric) (1.26.15)\n",
            "Requirement already satisfied: idna<4,>=2.5 in /usr/local/lib/python3.9/dist-packages (from requests->torch-geometric) (3.4)\n",
            "Requirement already satisfied: joblib>=1.1.1 in /usr/local/lib/python3.9/dist-packages (from scikit-learn->torch-geometric) (1.2.0)\n",
            "Requirement already satisfied: threadpoolctl>=2.0.0 in /usr/local/lib/python3.9/dist-packages (from scikit-learn->torch-geometric) (3.1.0)\n",
            "Building wheels for collected packages: torch-scatter, torch-sparse, torch-geometric\n",
            "  Building wheel for torch-scatter (setup.py) ... \u001b[?25l\u001b[?25hdone\n",
            "  Created wheel for torch-scatter: filename=torch_scatter-2.1.1-cp39-cp39-linux_x86_64.whl size=3153397 sha256=4af7622f638b14044a4f97b570704c36502b147d95ff855b69a7f14dce0ddf6b\n",
            "  Stored in directory: /root/.cache/pip/wheels/d5/0c/18/11b4cf31446c5d460543b0fff930fcac3a3f8a785e5c73fb15\n",
            "  Building wheel for torch-sparse (setup.py) ... \u001b[?25l\u001b[?25hdone\n",
            "  Created wheel for torch-sparse: filename=torch_sparse-0.6.17-cp39-cp39-linux_x86_64.whl size=1788656 sha256=f514df57576764874c69bd136bf0f0fdf4256e85fb873e5435df2b7137110194\n",
            "  Stored in directory: /root/.cache/pip/wheels/f8/43/54/bcb8acdd1109bd1e4c71106747af298d0315cdf3f090b2ae43\n",
            "  Building wheel for torch-geometric (pyproject.toml) ... \u001b[?25l\u001b[?25hdone\n",
            "  Created wheel for torch-geometric: filename=torch_geometric-2.3.0-py3-none-any.whl size=909897 sha256=f2de27dc8cc90aa2e11926b4217d1acb394ed6efec2043f4e57c04522f7d0f0e\n",
            "  Stored in directory: /root/.cache/pip/wheels/cd/7d/6b/17150450b80b4a3656a84330e22709ccd8dc0f8f4773ba4133\n",
            "Successfully built torch-scatter torch-sparse torch-geometric\n",
            "Installing collected packages: torch-scatter, torch-sparse, torch-geometric\n",
            "Successfully installed torch-geometric-2.3.0 torch-scatter-2.1.1 torch-sparse-0.6.17\n"
          ]
        }
      ],
      "source": [
        "!pip install torch-scatter torch-sparse torch-geometric -f https://data.pyg.org/whl/torch-1.12.0+cu113.html"
      ]
    },
    {
      "cell_type": "markdown",
      "metadata": {
        "id": "lfdcDD-xmT9g"
      },
      "source": [
        "Clone MatDeepLearn package"
      ]
    },
    {
      "cell_type": "code",
      "execution_count": null,
      "metadata": {
        "colab": {
          "base_uri": "https://localhost:8080/"
        },
        "id": "-BTGUX8rJyWJ",
        "outputId": "a938c280-66ce-4a44-e613-e2dc957274d2"
      },
      "outputs": [
        {
          "name": "stdout",
          "output_type": "stream",
          "text": [
            "Cloning into 'MatDeepLearn_dev'...\n",
            "remote: Enumerating objects: 5907, done.\u001b[K\n",
            "remote: Counting objects: 100% (1646/1646), done.\u001b[K\n",
            "remote: Compressing objects: 100% (410/410), done.\u001b[K\n",
            "remote: Total 5907 (delta 1269), reused 1599 (delta 1234), pack-reused 4261\u001b[K\n",
            "Receiving objects: 100% (5907/5907), 401.08 MiB | 17.93 MiB/s, done.\n",
            "Resolving deltas: 100% (3119/3119), done.\n",
            "/content/MatDeepLearn_dev\n"
          ]
        }
      ],
      "source": [
        "!git clone https://github.com/Fung-Lab/MatDeepLearn_dev\n",
        "%cd MatDeepLearn_dev"
      ]
    },
    {
      "cell_type": "markdown",
      "metadata": {
        "id": "slpMHtdomRyp"
      },
      "source": [
        "Install MatDeepLearn package in environment"
      ]
    },
    {
      "cell_type": "code",
      "execution_count": null,
      "metadata": {
        "colab": {
          "base_uri": "https://localhost:8080/"
        },
        "id": "M_w-B43wmP8L",
        "outputId": "cba74710-69b7-43db-c8a8-94b74053514b"
      },
      "outputs": [
        {
          "name": "stdout",
          "output_type": "stream",
          "text": [
            "Looking in indexes: https://pypi.org/simple, https://us-python.pkg.dev/colab-wheels/public/simple/\n",
            "Obtaining file:///content/MatDeepLearn_dev\n",
            "  Preparing metadata (setup.py) ... \u001b[?25l\u001b[?25hdone\n",
            "Installing collected packages: matdeeplearn\n",
            "  Running setup.py develop for matdeeplearn\n",
            "Successfully installed matdeeplearn-0.0.1\n"
          ]
        }
      ],
      "source": [
        "!pip install -e ."
      ]
    },
    {
      "cell_type": "code",
      "execution_count": null,
      "metadata": {
        "colab": {
          "base_uri": "https://localhost:8080/"
        },
        "id": "u_wJbyjYcvn7",
        "outputId": "05b3da48-d402-460e-99a8-5ceb75b4e005"
      },
      "outputs": [
        {
          "name": "stdout",
          "output_type": "stream",
          "text": [
            "--2023-04-20 06:21:26--  https://raw.githubusercontent.com/AkshayIyer/CS8803_MLC_Project/main/processor.py\n",
            "Resolving raw.githubusercontent.com (raw.githubusercontent.com)... 185.199.108.133, 185.199.109.133, 185.199.110.133, ...\n",
            "Connecting to raw.githubusercontent.com (raw.githubusercontent.com)|185.199.108.133|:443... connected.\n",
            "HTTP request sent, awaiting response... 200 OK\n",
            "Length: 15485 (15K) [text/plain]\n",
            "Saving to: ‘processor.py’\n",
            "\n",
            "processor.py        100%[===================>]  15.12K  --.-KB/s    in 0s      \n",
            "\n",
            "2023-04-20 06:21:26 (117 MB/s) - ‘processor.py’ saved [15485/15485]\n",
            "\n",
            "--2023-04-20 06:21:26--  https://raw.githubusercontent.com/AkshayIyer/CS8803_MLC_Project/main/data/test_data.json\n",
            "Resolving raw.githubusercontent.com (raw.githubusercontent.com)... 185.199.108.133, 185.199.109.133, 185.199.110.133, ...\n",
            "Connecting to raw.githubusercontent.com (raw.githubusercontent.com)|185.199.108.133|:443... connected.\n",
            "HTTP request sent, awaiting response... 200 OK\n",
            "Length: 752588 (735K) [text/plain]\n",
            "Saving to: ‘test_data.json’\n",
            "\n",
            "test_data.json      100%[===================>] 734.95K  --.-KB/s    in 0.009s  \n",
            "\n",
            "2023-04-20 06:21:27 (77.2 MB/s) - ‘test_data.json’ saved [752588/752588]\n",
            "\n",
            "--2023-04-20 06:21:27--  https://raw.githubusercontent.com/AkshayIyer/CS8803_MLC_Project/main/data/train_data.json\n",
            "Resolving raw.githubusercontent.com (raw.githubusercontent.com)... 185.199.108.133, 185.199.109.133, 185.199.110.133, ...\n",
            "Connecting to raw.githubusercontent.com (raw.githubusercontent.com)|185.199.108.133|:443... connected.\n",
            "HTTP request sent, awaiting response... 200 OK\n",
            "Length: 6169977 (5.9M) [text/plain]\n",
            "Saving to: ‘train_data.json’\n",
            "\n",
            "train_data.json     100%[===================>]   5.88M  --.-KB/s    in 0.04s   \n",
            "\n",
            "2023-04-20 06:21:34 (154 MB/s) - ‘train_data.json’ saved [6169977/6169977]\n",
            "\n",
            "--2023-04-20 06:21:34--  https://raw.githubusercontent.com/AkshayIyer/CS8803_MLC_Project/main/data/val_data.json\n",
            "Resolving raw.githubusercontent.com (raw.githubusercontent.com)... 185.199.108.133, 185.199.109.133, 185.199.110.133, ...\n",
            "Connecting to raw.githubusercontent.com (raw.githubusercontent.com)|185.199.108.133|:443... connected.\n",
            "HTTP request sent, awaiting response... 200 OK\n",
            "Length: 756983 (739K) [text/plain]\n",
            "Saving to: ‘val_data.json’\n",
            "\n",
            "val_data.json       100%[===================>] 739.24K  --.-KB/s    in 0.01s   \n",
            "\n",
            "2023-04-20 06:21:35 (72.1 MB/s) - ‘val_data.json’ saved [756983/756983]\n",
            "\n",
            "--2023-04-20 06:21:35--  https://raw.githubusercontent.com/AkshayIyer/CS8803_MLC_Project/main/cgcnn_config.yml\n",
            "Resolving raw.githubusercontent.com (raw.githubusercontent.com)... 185.199.108.133, 185.199.109.133, 185.199.110.133, ...\n",
            "Connecting to raw.githubusercontent.com (raw.githubusercontent.com)|185.199.108.133|:443... connected.\n",
            "HTTP request sent, awaiting response... 200 OK\n",
            "Length: 2551 (2.5K) [text/plain]\n",
            "Saving to: ‘cgcnn_config.yml’\n",
            "\n",
            "cgcnn_config.yml    100%[===================>]   2.49K  --.-KB/s    in 0s      \n",
            "\n",
            "2023-04-20 06:21:35 (39.1 MB/s) - ‘cgcnn_config.yml’ saved [2551/2551]\n",
            "\n"
          ]
        }
      ],
      "source": [
        "!wget https://raw.githubusercontent.com/AkshayIyer/CS8803_MLC_Project/main/processor.py\n",
        "!wget https://raw.githubusercontent.com/AkshayIyer/CS8803_MLC_Project/main/data/test_data.json\n",
        "!wget https://raw.githubusercontent.com/AkshayIyer/CS8803_MLC_Project/main/data/train_data.json\n",
        "!wget https://raw.githubusercontent.com/AkshayIyer/CS8803_MLC_Project/main/data/val_data.json\n",
        "!wget https://raw.githubusercontent.com/AkshayIyer/CS8803_MLC_Project/main/cgcnn_config.yml\n",
        "!mv processor.py matdeeplearn/preprocessor/processor.py\n",
        "!mkdir data/dielectric\n",
        "!mv test_data.json data/dielectric/test_data.json\n",
        "!mv train_data.json data/dielectric/train_data.json\n",
        "!mv val_data.json data/dielectric/val_data.json\n",
        "!mv cgcnn_config.yml configs/cgcnn_config.yml"
      ]
    },
    {
      "cell_type": "markdown",
      "metadata": {
        "id": "vdehHcRixYVN"
      },
      "source": [
        "Install some additional dependencies to handle the data"
      ]
    },
    {
      "cell_type": "markdown",
      "metadata": {
        "id": "G1Nji_7TAQp_"
      },
      "source": [
        "## **Training**"
      ]
    },
    {
      "cell_type": "markdown",
      "metadata": {
        "id": "c0IoRVFsmbmT"
      },
      "source": [
        "### Run model training with MP data\n"
      ]
    },
    {
      "cell_type": "code",
      "execution_count": null,
      "metadata": {
        "colab": {
          "background_save": true,
          "base_uri": "https://localhost:8080/"
        },
        "id": "QZ1gMkhLmiFV",
        "outputId": "30ee5c5e-74a5-418e-abaf-d92ca3a4409e"
      },
      "outputs": [
        {
          "name": "stdout",
          "output_type": "stream",
          "text": [
            "INFO:root:Train dataset found at data/dielectric/train_data.json\n",
            "INFO:root:Processing device: cpu\n",
            "INFO:root:Reading one JSON file for multiple structures.\n",
            "INFO:root:Loading json file as dict (this might take a while for large json file size).\n",
            "INFO:root:Converting data to standardized form for downstream processing.\n",
            "100% 5368/5368 [00:00<00:00, 39591.59it/s]\n",
            "INFO:root:Getting torch_geometric.data.Data() objects.\n",
            "100% 5368/5368 [00:05<00:00, 935.19it/s] \n",
            "INFO:root:Generating node features...\n",
            "INFO:root:Generating edge features...\n",
            "INFO:root:Processed train data saved successfully.\n",
            "INFO:root:Train dataset found at data/dielectric/val_data.json\n",
            "INFO:root:Processing device: cpu\n",
            "INFO:root:Reading one JSON file for multiple structures.\n",
            "INFO:root:Loading json file as dict (this might take a while for large json file size).\n",
            "INFO:root:Converting data to standardized form for downstream processing.\n",
            "100% 671/671 [00:00<00:00, 33286.16it/s]\n",
            "INFO:root:Getting torch_geometric.data.Data() objects.\n",
            "100% 671/671 [00:00<00:00, 783.05it/s]\n",
            "INFO:root:Generating node features...\n",
            "INFO:root:Generating edge features...\n",
            "INFO:root:Processed val data saved successfully.\n",
            "INFO:root:Train dataset found at data/dielectric/test_data.json\n",
            "INFO:root:Processing device: cpu\n",
            "INFO:root:Reading one JSON file for multiple structures.\n",
            "INFO:root:Loading json file as dict (this might take a while for large json file size).\n",
            "INFO:root:Converting data to standardized form for downstream processing.\n",
            "100% 671/671 [00:00<00:00, 55971.88it/s]\n",
            "INFO:root:Getting torch_geometric.data.Data() objects.\n",
            "100% 671/671 [00:00<00:00, 952.77it/s]\n",
            "INFO:root:Generating node features...\n",
            "INFO:root:Generating edge features...\n",
            "INFO:root:Processed test data saved successfully.\n",
            "INFO:root:GPU is available: True, Quantity: 1\n",
            "INFO:root:Dataset used: {'train': StructureDataset(90575), 'val': StructureDataset(11131), 'test': StructureDataset(10985)}\n",
            "INFO:root:Starting regular training\n",
            "INFO:root:running for 250 epochs on CGCNN model\n",
            "INFO:root:Epoch: 0000, Learning Rate: 0.002000, Training Error: 0.18779, Val Error: 0.14874, Time per epoch (s): 58.16054\n",
            "INFO:root:Epoch: 0005, Learning Rate: 0.002000, Training Error: 0.10583, Val Error: 0.13761, Time per epoch (s): 22.76539\n",
            "INFO:root:Epoch: 0010, Learning Rate: 0.002000, Training Error: 0.08181, Val Error: 0.13054, Time per epoch (s): 22.73324\n",
            "INFO:root:Epoch: 0015, Learning Rate: 0.002000, Training Error: 0.06901, Val Error: 0.13523, Time per epoch (s): 22.80286\n",
            "INFO:root:Epoch: 0020, Learning Rate: 0.002000, Training Error: 0.06115, Val Error: 0.13792, Time per epoch (s): 22.65666\n",
            "INFO:root:Epoch: 0025, Learning Rate: 0.002000, Training Error: 0.05564, Val Error: 0.13131, Time per epoch (s): 23.19505\n",
            "INFO:root:Epoch: 0030, Learning Rate: 0.002000, Training Error: 0.05213, Val Error: 0.13677, Time per epoch (s): 24.09151\n",
            "INFO:root:Epoch: 0035, Learning Rate: 0.002000, Training Error: 0.04911, Val Error: 0.13326, Time per epoch (s): 24.48382\n",
            "INFO:root:Epoch: 0040, Learning Rate: 0.002000, Training Error: 0.04672, Val Error: 0.13334, Time per epoch (s): 25.53442\n",
            "INFO:root:Epoch: 0045, Learning Rate: 0.002000, Training Error: 0.04541, Val Error: 0.13369, Time per epoch (s): 23.84276\n",
            "INFO:root:Epoch: 0050, Learning Rate: 0.002000, Training Error: 0.04359, Val Error: 0.13172, Time per epoch (s): 23.13246\n",
            "INFO:root:Epoch: 0055, Learning Rate: 0.002000, Training Error: 0.04254, Val Error: 0.13522, Time per epoch (s): 23.81266\n",
            "INFO:root:Epoch: 0060, Learning Rate: 0.002000, Training Error: 0.04155, Val Error: 0.13380, Time per epoch (s): 23.81459\n",
            "INFO:root:Epoch: 0065, Learning Rate: 0.002000, Training Error: 0.04041, Val Error: 0.13137, Time per epoch (s): 23.67533\n",
            "INFO:root:Epoch: 0070, Learning Rate: 0.002000, Training Error: 0.03981, Val Error: 0.12967, Time per epoch (s): 22.27604\n",
            "INFO:root:Epoch: 0075, Learning Rate: 0.002000, Training Error: 0.03904, Val Error: 0.13319, Time per epoch (s): 25.32640\n",
            "INFO:root:Epoch: 0080, Learning Rate: 0.002000, Training Error: 0.03851, Val Error: 0.13270, Time per epoch (s): 23.56446\n",
            "INFO:root:Epoch: 0085, Learning Rate: 0.002000, Training Error: 0.03757, Val Error: 0.12679, Time per epoch (s): 22.48069\n",
            "INFO:root:Epoch: 0090, Learning Rate: 0.002000, Training Error: 0.03719, Val Error: 0.13099, Time per epoch (s): 24.67006\n",
            "INFO:root:Epoch: 0095, Learning Rate: 0.002000, Training Error: 0.03721, Val Error: 0.13025, Time per epoch (s): 23.79330\n",
            "INFO:root:Epoch: 0100, Learning Rate: 0.002000, Training Error: 0.03619, Val Error: 0.13075, Time per epoch (s): 24.52012\n",
            "INFO:root:Epoch: 0105, Learning Rate: 0.002000, Training Error: 0.03570, Val Error: 0.13315, Time per epoch (s): 23.18271\n",
            "INFO:root:Epoch: 0110, Learning Rate: 0.002000, Training Error: 0.03553, Val Error: 0.13099, Time per epoch (s): 24.29596\n",
            "INFO:root:Epoch: 0115, Learning Rate: 0.002000, Training Error: 0.03510, Val Error: 0.13476, Time per epoch (s): 25.00594\n",
            "INFO:root:Epoch: 0120, Learning Rate: 0.002000, Training Error: 0.03482, Val Error: 0.13257, Time per epoch (s): 24.40780\n",
            "INFO:root:Epoch: 0125, Learning Rate: 0.002000, Training Error: 0.03441, Val Error: 0.12991, Time per epoch (s): 22.53250\n",
            "INFO:root:Epoch: 0130, Learning Rate: 0.002000, Training Error: 0.03387, Val Error: 0.13827, Time per epoch (s): 24.02161\n",
            "INFO:root:Epoch: 0135, Learning Rate: 0.002000, Training Error: 0.03383, Val Error: 0.12810, Time per epoch (s): 23.83964\n",
            "INFO:root:Epoch: 0140, Learning Rate: 0.002000, Training Error: 0.03354, Val Error: 0.13303, Time per epoch (s): 22.54347\n",
            "INFO:root:Epoch: 0145, Learning Rate: 0.002000, Training Error: 0.03353, Val Error: 0.13288, Time per epoch (s): 23.45727\n",
            "INFO:root:Epoch: 0150, Learning Rate: 0.002000, Training Error: 0.03327, Val Error: 0.13290, Time per epoch (s): 23.79831\n",
            "INFO:root:Epoch: 0155, Learning Rate: 0.002000, Training Error: 0.03344, Val Error: 0.13422, Time per epoch (s): 22.85127\n",
            "INFO:root:Epoch: 0160, Learning Rate: 0.002000, Training Error: 0.03267, Val Error: 0.13060, Time per epoch (s): 22.27095\n",
            "INFO:root:Epoch: 0165, Learning Rate: 0.002000, Training Error: 0.03285, Val Error: 0.13518, Time per epoch (s): 23.59914\n",
            "INFO:root:Epoch: 0170, Learning Rate: 0.001600, Training Error: 0.02991, Val Error: 0.13092, Time per epoch (s): 25.46129\n",
            "INFO:root:Epoch: 0175, Learning Rate: 0.001600, Training Error: 0.02960, Val Error: 0.13431, Time per epoch (s): 23.46141\n",
            "INFO:root:Epoch: 0180, Learning Rate: 0.001600, Training Error: 0.02926, Val Error: 0.13294, Time per epoch (s): 22.43580\n",
            "INFO:root:Epoch: 0185, Learning Rate: 0.001600, Training Error: 0.02924, Val Error: 0.13243, Time per epoch (s): 23.57202\n",
            "INFO:root:Epoch: 0190, Learning Rate: 0.001280, Training Error: 0.02723, Val Error: 0.13472, Time per epoch (s): 23.71334\n",
            "INFO:root:Epoch: 0195, Learning Rate: 0.001280, Training Error: 0.02684, Val Error: 0.13287, Time per epoch (s): 22.46399\n",
            "INFO:root:Epoch: 0200, Learning Rate: 0.001280, Training Error: 0.02664, Val Error: 0.13275, Time per epoch (s): 24.11020\n",
            "INFO:root:Epoch: 0205, Learning Rate: 0.001280, Training Error: 0.02668, Val Error: 0.13263, Time per epoch (s): 23.83444\n",
            "INFO:root:Epoch: 0210, Learning Rate: 0.001280, Training Error: 0.02643, Val Error: 0.13125, Time per epoch (s): 22.99610\n",
            "INFO:root:Epoch: 0215, Learning Rate: 0.001280, Training Error: 0.02660, Val Error: 0.12909, Time per epoch (s): 22.12151\n",
            "INFO:root:Epoch: 0220, Learning Rate: 0.001280, Training Error: 0.02669, Val Error: 0.13100, Time per epoch (s): 23.59689\n",
            "INFO:root:Epoch: 0225, Learning Rate: 0.001280, Training Error: 0.02644, Val Error: 0.13353, Time per epoch (s): 25.12042\n",
            "INFO:root:Epoch: 0230, Learning Rate: 0.001280, Training Error: 0.02639, Val Error: 0.13226, Time per epoch (s): 23.52180\n",
            "INFO:root:Epoch: 0235, Learning Rate: 0.001280, Training Error: 0.02610, Val Error: 0.13283, Time per epoch (s): 22.01240\n",
            "INFO:root:Epoch: 0240, Learning Rate: 0.001280, Training Error: 0.02643, Val Error: 0.13437, Time per epoch (s): 23.75149\n",
            "INFO:root:Epoch: 0245, Learning Rate: 0.001280, Training Error: 0.02642, Val Error: 0.13142, Time per epoch (s): 23.63645\n"
          ]
        }
      ],
      "source": [
        "!python scripts/main.py --run_mode=train --config_path=configs/cgcnn_config.yml"
      ]
    },
    {
      "cell_type": "code",
      "execution_count": null,
      "metadata": {
        "id": "24UACs-ipPwe"
      },
      "outputs": [],
      "source": [
        "import matplotlib.pyplot as plt\n",
        "import pandas as pd\n",
        "import os\n",
        "import numpy as np"
      ]
    },
    {
      "cell_type": "code",
      "execution_count": null,
      "metadata": {
        "colab": {
          "base_uri": "https://localhost:8080/"
        },
        "id": "rgr4Y2N2fYfC",
        "outputId": "ed6e7978-8650-4cf7-be30-db5f43f620e1"
      },
      "outputs": [
        {
          "name": "stdout",
          "output_type": "stream",
          "text": [
            "MAE: 0.16455299451723288\n"
          ]
        }
      ],
      "source": [
        "# https://www.geeksforgeeks.org/python-list-files-in-a-directory/\n",
        "folder = os.listdir('./results')[0]\n",
        "test_df = pd.read_csv('./results/' + folder + '/test_predictions.csv')\n",
        "test_df = test_df.groupby(['structure_id']).mean()\n",
        "print(\"MAE: {}\".format(\n",
        "    np.mean(np.abs(test_df['prediction'] - test_df['target']))))"
      ]
    },
    {
      "cell_type": "code",
      "execution_count": null,
      "metadata": {
        "colab": {
          "base_uri": "https://localhost:8080/",
          "height": 450
        },
        "id": "WylgOk2af7ta",
        "outputId": "65a8e3f0-c5b4-4dc7-e801-4d5006fd8462"
      },
      "outputs": [
        {
          "data": {
            "image/png": "[encoded data removed]",
            "text/plain": [
              "<Figure size 640x480 with 1 Axes>"
            ]
          },
          "metadata": {},
          "output_type": "display_data"
        }
      ],
      "source": [
        "plt.hist2d(test_df['target'], test_df['prediction'], bins = 50)\n",
        "plt.xlabel(\"Target (log eV)\")\n",
        "plt.ylabel(\"Prediction (log eV)\");"
      ]
    }
  ],
  "metadata": {
    "accelerator": "GPU",
    "colab": {
      "provenance": []
    },
    "gpuClass": "standard",
    "kernelspec": {
      "display_name": "Python 3",
      "name": "python3"
    },
    "language_info": {
      "name": "python"
    }
  },
  "nbformat": 4,
  "nbformat_minor": 0
}