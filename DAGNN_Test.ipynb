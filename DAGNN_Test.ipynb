{
  "nbformat": 4,
  "nbformat_minor": 0,
  "metadata": {
    "colab": {
      "provenance": []
    },
    "kernelspec": {
      "name": "python3",
      "display_name": "Python 3"
    },
    "language_info": {
      "name": "python"
    },
    "accelerator": "GPU",
    "gpuClass": "standard"
  },
  "cells": [
    {
      "cell_type": "markdown",
      "source": [
        "## **Installation**"
      ],
      "metadata": {
        "id": "8wHTK_7IjIEg"
      }
    },
    {
      "cell_type": "markdown",
      "source": [
        "Based heavily on the [https://github.com/Fung-Lab/MatDeepLearn_dev/](https://github.com/Fung-Lab/MatDeepLearn_dev/) tutorial"
      ],
      "metadata": {
        "collapsed": false,
        "id": "R12u-UohnBid"
      }
    },
    {
      "cell_type": "markdown",
      "source": [
        "### Runtime"
      ],
      "metadata": {
        "id": "F8tZmlwFULDJ"
      }
    },
    {
      "cell_type": "markdown",
      "source": [
        "For the purpose of the demo, we recommend you use GPU on Google Colab, although it is not required.\n",
        "\n",
        "Google Colab provides access to 1 GPU (Runtime -> Change runtime type -> select GPU)."
      ],
      "metadata": {
        "id": "uhMUkc1GUQ47"
      }
    },
    {
      "cell_type": "markdown",
      "source": [
        "### MatDeepLearn Set-Up"
      ],
      "metadata": {
        "id": "byczXMtRQ7nj"
      }
    },
    {
      "cell_type": "markdown",
      "source": [
        "Install the required dependencies (ignore torchvision, torchtext, and torchaudio errors - these packages are not used)"
      ],
      "metadata": {
        "id": "x61oTV8oRbAA"
      }
    },
    {
      "cell_type": "code",
      "source": [
        "!pip install torch==1.12.1+cu113 -f https://download.pytorch.org/whl/torch_stable.html "
      ],
      "metadata": {
        "id": "W260O-Twlmjw",
        "pycharm": {
          "is_executing": true
        },
        "colab": {
          "base_uri": "https://localhost:8080/"
        },
        "outputId": "db6da82a-e3bd-47a0-801a-ffe747c7cd64"
      },
      "execution_count": null,
      "outputs": [
        {
          "output_type": "stream",
          "name": "stdout",
          "text": [
            "Looking in indexes: https://pypi.org/simple, https://us-python.pkg.dev/colab-wheels/public/simple/\n",
            "Looking in links: https://download.pytorch.org/whl/torch_stable.html\n",
            "Collecting torch==1.12.1+cu113\n",
            "  Downloading https://download.pytorch.org/whl/cu113/torch-1.12.1%2Bcu113-cp39-cp39-linux_x86_64.whl (1837.7 MB)\n",
            "\u001b[2K     \u001b[90m━━━━━━━━━━━━━━━━━━━━━━━━━━━━━━━━━━━━━━━━\u001b[0m \u001b[32m1.8/1.8 GB\u001b[0m \u001b[31m972.5 kB/s\u001b[0m eta \u001b[36m0:00:00\u001b[0m\n",
            "\u001b[?25hRequirement already satisfied: typing-extensions in /usr/local/lib/python3.9/dist-packages (from torch==1.12.1+cu113) (4.5.0)\n",
            "Installing collected packages: torch\n",
            "  Attempting uninstall: torch\n",
            "    Found existing installation: torch 2.0.0+cu118\n",
            "    Uninstalling torch-2.0.0+cu118:\n",
            "      Successfully uninstalled torch-2.0.0+cu118\n",
            "\u001b[31mERROR: pip's dependency resolver does not currently take into account all the packages that are installed. This behaviour is the source of the following dependency conflicts.\n",
            "torchvision 0.15.1+cu118 requires torch==2.0.0, but you have torch 1.12.1+cu113 which is incompatible.\n",
            "torchtext 0.15.1 requires torch==2.0.0, but you have torch 1.12.1+cu113 which is incompatible.\n",
            "torchdata 0.6.0 requires torch==2.0.0, but you have torch 1.12.1+cu113 which is incompatible.\n",
            "torchaudio 2.0.1+cu118 requires torch==2.0.0, but you have torch 1.12.1+cu113 which is incompatible.\u001b[0m\u001b[31m\n",
            "\u001b[0mSuccessfully installed torch-1.12.1+cu113\n",
            "Looking in indexes: https://pypi.org/simple, https://us-python.pkg.dev/colab-wheels/public/simple/\n",
            "Collecting ase==3.21.*\n",
            "  Downloading ase-3.21.1-py3-none-any.whl (2.2 MB)\n",
            "\u001b[2K     \u001b[90m━━━━━━━━━━━━━━━━━━━━━━━━━━━━━━━━━━━━━━━━\u001b[0m \u001b[32m2.2/2.2 MB\u001b[0m \u001b[31m6.1 MB/s\u001b[0m eta \u001b[36m0:00:00\u001b[0m\n",
            "\u001b[?25hRequirement already satisfied: matplotlib>=2.0.0 in /usr/local/lib/python3.9/dist-packages (from ase==3.21.*) (3.7.1)\n",
            "Requirement already satisfied: numpy>=1.11.3 in /usr/local/lib/python3.9/dist-packages (from ase==3.21.*) (1.22.4)\n",
            "Requirement already satisfied: scipy>=0.18.1 in /usr/local/lib/python3.9/dist-packages (from ase==3.21.*) (1.10.1)\n",
            "Requirement already satisfied: pyparsing>=2.3.1 in /usr/local/lib/python3.9/dist-packages (from matplotlib>=2.0.0->ase==3.21.*) (3.0.9)\n",
            "Requirement already satisfied: packaging>=20.0 in /usr/local/lib/python3.9/dist-packages (from matplotlib>=2.0.0->ase==3.21.*) (23.0)\n",
            "Requirement already satisfied: fonttools>=4.22.0 in /usr/local/lib/python3.9/dist-packages (from matplotlib>=2.0.0->ase==3.21.*) (4.39.3)\n",
            "Requirement already satisfied: contourpy>=1.0.1 in /usr/local/lib/python3.9/dist-packages (from matplotlib>=2.0.0->ase==3.21.*) (1.0.7)\n",
            "Requirement already satisfied: importlib-resources>=3.2.0 in /usr/local/lib/python3.9/dist-packages (from matplotlib>=2.0.0->ase==3.21.*) (5.12.0)\n",
            "Requirement already satisfied: pillow>=6.2.0 in /usr/local/lib/python3.9/dist-packages (from matplotlib>=2.0.0->ase==3.21.*) (8.4.0)\n",
            "Requirement already satisfied: cycler>=0.10 in /usr/local/lib/python3.9/dist-packages (from matplotlib>=2.0.0->ase==3.21.*) (0.11.0)\n",
            "Requirement already satisfied: kiwisolver>=1.0.1 in /usr/local/lib/python3.9/dist-packages (from matplotlib>=2.0.0->ase==3.21.*) (1.4.4)\n",
            "Requirement already satisfied: python-dateutil>=2.7 in /usr/local/lib/python3.9/dist-packages (from matplotlib>=2.0.0->ase==3.21.*) (2.8.2)\n",
            "Requirement already satisfied: zipp>=3.1.0 in /usr/local/lib/python3.9/dist-packages (from importlib-resources>=3.2.0->matplotlib>=2.0.0->ase==3.21.*) (3.15.0)\n",
            "Requirement already satisfied: six>=1.5 in /usr/local/lib/python3.9/dist-packages (from python-dateutil>=2.7->matplotlib>=2.0.0->ase==3.21.*) (1.16.0)\n",
            "Installing collected packages: ase\n",
            "Successfully installed ase-3.21.1\n",
            "Looking in indexes: https://pypi.org/simple, https://us-python.pkg.dev/colab-wheels/public/simple/\n",
            "Looking in links: https://data.pyg.org/whl/torch-1.12.0+cu113.html\n",
            "Collecting torch-scatter\n",
            "  Downloading torch_scatter-2.1.1.tar.gz (107 kB)\n",
            "\u001b[2K     \u001b[90m━━━━━━━━━━━━━━━━━━━━━━━━━━━━━━━━━━━━━━━\u001b[0m \u001b[32m107.6/107.6 kB\u001b[0m \u001b[31m9.4 MB/s\u001b[0m eta \u001b[36m0:00:00\u001b[0m\n",
            "\u001b[?25h  Preparing metadata (setup.py) ... \u001b[?25l\u001b[?25hdone\n",
            "Collecting torch-sparse\n",
            "  Downloading torch_sparse-0.6.17.tar.gz (209 kB)\n",
            "\u001b[2K     \u001b[90m━━━━━━━━━━━━━━━━━━━━━━━━━━━━━━━━━━━━━━\u001b[0m \u001b[32m209.2/209.2 kB\u001b[0m \u001b[31m23.0 MB/s\u001b[0m eta \u001b[36m0:00:00\u001b[0m\n",
            "\u001b[?25h  Preparing metadata (setup.py) ... \u001b[?25l\u001b[?25hdone\n",
            "Collecting torch-geometric\n",
            "  Downloading torch_geometric-2.3.0.tar.gz (616 kB)\n",
            "\u001b[2K     \u001b[90m━━━━━━━━━━━━━━━━━━━━━━━━━━━━━━━━━━━━━━\u001b[0m \u001b[32m616.2/616.2 kB\u001b[0m \u001b[31m43.7 MB/s\u001b[0m eta \u001b[36m0:00:00\u001b[0m\n",
            "\u001b[?25h  Installing build dependencies ... \u001b[?25l\u001b[?25hdone\n",
            "  Getting requirements to build wheel ... \u001b[?25l\u001b[?25hdone\n",
            "  Preparing metadata (pyproject.toml) ... \u001b[?25l\u001b[?25hdone\n",
            "Requirement already satisfied: scipy in /usr/local/lib/python3.9/dist-packages (from torch-sparse) (1.10.1)\n",
            "Requirement already satisfied: psutil>=5.8.0 in /usr/local/lib/python3.9/dist-packages (from torch-geometric) (5.9.4)\n",
            "Requirement already satisfied: requests in /usr/local/lib/python3.9/dist-packages (from torch-geometric) (2.27.1)\n",
            "Requirement already satisfied: tqdm in /usr/local/lib/python3.9/dist-packages (from torch-geometric) (4.65.0)\n",
            "Requirement already satisfied: scikit-learn in /usr/local/lib/python3.9/dist-packages (from torch-geometric) (1.2.2)\n",
            "Requirement already satisfied: pyparsing in /usr/local/lib/python3.9/dist-packages (from torch-geometric) (3.0.9)\n",
            "Requirement already satisfied: numpy in /usr/local/lib/python3.9/dist-packages (from torch-geometric) (1.22.4)\n",
            "Requirement already satisfied: jinja2 in /usr/local/lib/python3.9/dist-packages (from torch-geometric) (3.1.2)\n",
            "Requirement already satisfied: MarkupSafe>=2.0 in /usr/local/lib/python3.9/dist-packages (from jinja2->torch-geometric) (2.1.2)\n",
            "Requirement already satisfied: certifi>=2017.4.17 in /usr/local/lib/python3.9/dist-packages (from requests->torch-geometric) (2022.12.7)\n",
            "Requirement already satisfied: idna<4,>=2.5 in /usr/local/lib/python3.9/dist-packages (from requests->torch-geometric) (3.4)\n",
            "Requirement already satisfied: urllib3<1.27,>=1.21.1 in /usr/local/lib/python3.9/dist-packages (from requests->torch-geometric) (1.26.15)\n",
            "Requirement already satisfied: charset-normalizer~=2.0.0 in /usr/local/lib/python3.9/dist-packages (from requests->torch-geometric) (2.0.12)\n",
            "Requirement already satisfied: threadpoolctl>=2.0.0 in /usr/local/lib/python3.9/dist-packages (from scikit-learn->torch-geometric) (3.1.0)\n",
            "Requirement already satisfied: joblib>=1.1.1 in /usr/local/lib/python3.9/dist-packages (from scikit-learn->torch-geometric) (1.2.0)\n",
            "Building wheels for collected packages: torch-scatter, torch-sparse, torch-geometric\n",
            "  Building wheel for torch-scatter (setup.py) ... \u001b[?25l\u001b[?25hdone\n",
            "  Created wheel for torch-scatter: filename=torch_scatter-2.1.1-cp39-cp39-linux_x86_64.whl size=3153395 sha256=9308e483a16608ca9a621038746a6dca908b45e8d7f58d69f0345e33e61a394c\n",
            "  Stored in directory: /root/.cache/pip/wheels/d5/0c/18/11b4cf31446c5d460543b0fff930fcac3a3f8a785e5c73fb15\n",
            "  Building wheel for torch-sparse (setup.py) ... \u001b[?25l\u001b[?25hcanceled\n",
            "\u001b[31mERROR: Operation cancelled by user\u001b[0m\u001b[31m\n",
            "\u001b[0m"
          ]
        }
      ]
    },
    {
      "cell_type": "code",
      "source": [
        "!pip install ase==3.21.*"
      ],
      "metadata": {
        "id": "IXhTPc24rZDd"
      },
      "execution_count": null,
      "outputs": []
    },
    {
      "cell_type": "code",
      "source": [
        "!pip install torch-scatter torch-sparse torch-geometric -f https://data.pyg.org/whl/torch-1.12.0+cu113.html"
      ],
      "metadata": {
        "colab": {
          "base_uri": "https://localhost:8080/"
        },
        "id": "ZZ7loaK0rVah",
        "outputId": "e7ba1216-cb2d-4ac7-806e-9ede949f24ae"
      },
      "execution_count": null,
      "outputs": [
        {
          "output_type": "stream",
          "name": "stdout",
          "text": [
            "Looking in indexes: https://pypi.org/simple, https://us-python.pkg.dev/colab-wheels/public/simple/\n",
            "Looking in links: https://data.pyg.org/whl/torch-1.12.0+cu113.html\n",
            "Collecting torch-scatter\n",
            "  Using cached torch_scatter-2.1.1-cp39-cp39-linux_x86_64.whl\n",
            "Collecting torch-sparse\n",
            "  Using cached torch_sparse-0.6.17.tar.gz (209 kB)\n",
            "  Preparing metadata (setup.py) ... \u001b[?25l\u001b[?25hdone\n",
            "Collecting torch-geometric\n",
            "  Using cached torch_geometric-2.3.0.tar.gz (616 kB)\n",
            "  Installing build dependencies ... \u001b[?25l\u001b[?25hdone\n",
            "  Getting requirements to build wheel ... \u001b[?25l\u001b[?25hdone\n",
            "  Preparing metadata (pyproject.toml) ... \u001b[?25l\u001b[?25hdone\n",
            "Requirement already satisfied: scipy in /usr/local/lib/python3.9/dist-packages (from torch-sparse) (1.10.1)\n",
            "Requirement already satisfied: scikit-learn in /usr/local/lib/python3.9/dist-packages (from torch-geometric) (1.2.2)\n",
            "Requirement already satisfied: jinja2 in /usr/local/lib/python3.9/dist-packages (from torch-geometric) (3.1.2)\n",
            "Requirement already satisfied: requests in /usr/local/lib/python3.9/dist-packages (from torch-geometric) (2.27.1)\n",
            "Requirement already satisfied: numpy in /usr/local/lib/python3.9/dist-packages (from torch-geometric) (1.22.4)\n",
            "Requirement already satisfied: pyparsing in /usr/local/lib/python3.9/dist-packages (from torch-geometric) (3.0.9)\n",
            "Requirement already satisfied: tqdm in /usr/local/lib/python3.9/dist-packages (from torch-geometric) (4.65.0)\n",
            "Requirement already satisfied: psutil>=5.8.0 in /usr/local/lib/python3.9/dist-packages (from torch-geometric) (5.9.4)\n",
            "Requirement already satisfied: MarkupSafe>=2.0 in /usr/local/lib/python3.9/dist-packages (from jinja2->torch-geometric) (2.1.2)\n",
            "Requirement already satisfied: idna<4,>=2.5 in /usr/local/lib/python3.9/dist-packages (from requests->torch-geometric) (3.4)\n",
            "Requirement already satisfied: certifi>=2017.4.17 in /usr/local/lib/python3.9/dist-packages (from requests->torch-geometric) (2022.12.7)\n",
            "Requirement already satisfied: charset-normalizer~=2.0.0 in /usr/local/lib/python3.9/dist-packages (from requests->torch-geometric) (2.0.12)\n",
            "Requirement already satisfied: urllib3<1.27,>=1.21.1 in /usr/local/lib/python3.9/dist-packages (from requests->torch-geometric) (1.26.15)\n",
            "Requirement already satisfied: joblib>=1.1.1 in /usr/local/lib/python3.9/dist-packages (from scikit-learn->torch-geometric) (1.2.0)\n",
            "Requirement already satisfied: threadpoolctl>=2.0.0 in /usr/local/lib/python3.9/dist-packages (from scikit-learn->torch-geometric) (3.1.0)\n",
            "Building wheels for collected packages: torch-sparse, torch-geometric\n",
            "  Building wheel for torch-sparse (setup.py) ... \u001b[?25l\u001b[?25hdone\n",
            "  Created wheel for torch-sparse: filename=torch_sparse-0.6.17-cp39-cp39-linux_x86_64.whl size=1788652 sha256=1be0e1a284d61cbea8d356d3f131bc06c7d6e5f1339ea635077a2807e7bb2b8f\n",
            "  Stored in directory: /root/.cache/pip/wheels/f8/43/54/bcb8acdd1109bd1e4c71106747af298d0315cdf3f090b2ae43\n",
            "  Building wheel for torch-geometric (pyproject.toml) ... \u001b[?25l\u001b[?25hdone\n",
            "  Created wheel for torch-geometric: filename=torch_geometric-2.3.0-py3-none-any.whl size=909897 sha256=5c79c628f671c3f805bb7e17952f504618a41250402dcd3f059c31fdc51e3b6c\n",
            "  Stored in directory: /root/.cache/pip/wheels/cd/7d/6b/17150450b80b4a3656a84330e22709ccd8dc0f8f4773ba4133\n",
            "Successfully built torch-sparse torch-geometric\n",
            "Installing collected packages: torch-scatter, torch-sparse, torch-geometric\n",
            "Successfully installed torch-geometric-2.3.0 torch-scatter-2.1.1 torch-sparse-0.6.17\n"
          ]
        }
      ]
    },
    {
      "cell_type": "markdown",
      "source": [
        "Clone MatDeepLearn package"
      ],
      "metadata": {
        "id": "lfdcDD-xmT9g"
      }
    },
    {
      "cell_type": "code",
      "source": [
        "!git clone https://github.com/Fung-Lab/MatDeepLearn_dev\n",
        "%cd MatDeepLearn_dev"
      ],
      "metadata": {
        "id": "-BTGUX8rJyWJ",
        "colab": {
          "base_uri": "https://localhost:8080/"
        },
        "outputId": "13a8be62-e7ee-403d-8492-3576c16e5b41"
      },
      "execution_count": null,
      "outputs": [
        {
          "output_type": "stream",
          "name": "stdout",
          "text": [
            "Cloning into 'MatDeepLearn_dev'...\n",
            "remote: Enumerating objects: 5897, done.\u001b[K\n",
            "remote: Counting objects: 100% (1637/1637), done.\u001b[K\n",
            "remote: Compressing objects: 100% (402/402), done.\u001b[K\n",
            "remote: Total 5897 (delta 1265), reused 1594 (delta 1233), pack-reused 4260\u001b[K\n",
            "Receiving objects: 100% (5897/5897), 401.08 MiB | 15.13 MiB/s, done.\n",
            "Resolving deltas: 100% (3114/3114), done.\n",
            "/content/MatDeepLearn_dev/MatDeepLearn_dev\n"
          ]
        }
      ]
    },
    {
      "cell_type": "markdown",
      "source": [
        "Install MatDeepLearn package in environment"
      ],
      "metadata": {
        "id": "slpMHtdomRyp"
      }
    },
    {
      "cell_type": "code",
      "source": [
        "!pip install -e ."
      ],
      "metadata": {
        "id": "M_w-B43wmP8L",
        "pycharm": {
          "is_executing": true
        },
        "colab": {
          "base_uri": "https://localhost:8080/"
        },
        "outputId": "debdda18-9aed-451d-93e5-ab5296e8d4d1"
      },
      "execution_count": null,
      "outputs": [
        {
          "output_type": "stream",
          "name": "stdout",
          "text": [
            "Looking in indexes: https://pypi.org/simple, https://us-python.pkg.dev/colab-wheels/public/simple/\n",
            "Obtaining file:///content/MatDeepLearn_dev/MatDeepLearn_dev\n",
            "  Preparing metadata (setup.py) ... \u001b[?25l\u001b[?25hdone\n",
            "Installing collected packages: matdeeplearn\n",
            "  Attempting uninstall: matdeeplearn\n",
            "    Found existing installation: matdeeplearn 0.0.1\n",
            "    Can't uninstall 'matdeeplearn'. No files were found to uninstall.\n",
            "  Running setup.py develop for matdeeplearn\n",
            "Successfully installed matdeeplearn-0.0.1\n"
          ]
        }
      ]
    },
    {
      "cell_type": "code",
      "source": [
        "wget https://raw.githubusercontent.com/AkshayIyer/CS8803_MLC_Project/main/dagnn.py\n",
        "wget https://raw.githubusercontent.com/AkshayIyer/CS8803_MLC_Project/main/data/test_data.json\n",
        "wget https://raw.githubusercontent.com/AkshayIyer/CS8803_MLC_Project/main/data/train_data.json\n",
        "wget https://raw.githubusercontent.com/AkshayIyer/CS8803_MLC_Project/main/data/val_data.json\n",
        "wget https://raw.githubusercontent.com/AkshayIyer/CS8803_MLC_Project/main/dagnn_config.yml\n",
        "mv dagnn.py matdeeplearn/models/dagnn.py\n",
        "mkdir data/dielectric\n",
        "mv test_data.json data/dielectric/test_data.json\n",
        "mv train_data.json data/dielectric/train_data.json\n",
        "mv val_data.json data/dielectric/val_data.json\n",
        "mv dagnn_config.yml configs/dagnn_config.yml"
      ],
      "metadata": {
        "colab": {
          "base_uri": "https://localhost:8080/"
        },
        "id": "u_wJbyjYcvn7",
        "outputId": "4e93df7d-7beb-49b3-ae35-0d82d1abf474"
      },
      "execution_count": null,
      "outputs": [
        {
          "output_type": "stream",
          "name": "stdout",
          "text": [
            "--2023-04-17 19:53:34--  https://raw.githubusercontent.com/AkshayIyer/CS8803_MLC_Project/main/dagnn.py\n",
            "Resolving raw.githubusercontent.com (raw.githubusercontent.com)... 185.199.109.133, 185.199.108.133, 185.199.111.133, ...\n",
            "Connecting to raw.githubusercontent.com (raw.githubusercontent.com)|185.199.109.133|:443... connected.\n",
            "HTTP request sent, awaiting response... 200 OK\n",
            "Length: 3949 (3.9K) [text/plain]\n",
            "Saving to: ‘dagnn.py’\n",
            "\n",
            "dagnn.py            100%[===================>]   3.86K  --.-KB/s    in 0s      \n",
            "\n",
            "2023-04-17 19:53:35 (63.3 MB/s) - ‘dagnn.py’ saved [3949/3949]\n",
            "\n",
            "--2023-04-17 19:53:35--  https://raw.githubusercontent.com/AkshayIyer/CS8803_MLC_Project/main/data/test_data.json\n",
            "Resolving raw.githubusercontent.com (raw.githubusercontent.com)... 185.199.108.133, 185.199.109.133, 185.199.110.133, ...\n",
            "Connecting to raw.githubusercontent.com (raw.githubusercontent.com)|185.199.108.133|:443... connected.\n",
            "HTTP request sent, awaiting response... 200 OK\n",
            "Length: 752588 (735K) [text/plain]\n",
            "Saving to: ‘test_data.json’\n",
            "\n",
            "test_data.json      100%[===================>] 734.95K  --.-KB/s    in 0.005s  \n",
            "\n",
            "2023-04-17 19:53:35 (140 MB/s) - ‘test_data.json’ saved [752588/752588]\n",
            "\n",
            "--2023-04-17 19:53:35--  https://raw.githubusercontent.com/AkshayIyer/CS8803_MLC_Project/main/data/train_data.json\n",
            "Resolving raw.githubusercontent.com (raw.githubusercontent.com)... 185.199.109.133, 185.199.111.133, 185.199.108.133, ...\n",
            "Connecting to raw.githubusercontent.com (raw.githubusercontent.com)|185.199.109.133|:443... connected.\n",
            "HTTP request sent, awaiting response... 200 OK\n",
            "Length: 6169977 (5.9M) [text/plain]\n",
            "Saving to: ‘train_data.json’\n",
            "\n",
            "train_data.json     100%[===================>]   5.88M  --.-KB/s    in 0.02s   \n",
            "\n",
            "2023-04-17 19:53:36 (324 MB/s) - ‘train_data.json’ saved [6169977/6169977]\n",
            "\n",
            "--2023-04-17 19:53:36--  https://raw.githubusercontent.com/AkshayIyer/CS8803_MLC_Project/main/data/val_data.json\n",
            "Resolving raw.githubusercontent.com (raw.githubusercontent.com)... 185.199.108.133, 185.199.109.133, 185.199.110.133, ...\n",
            "Connecting to raw.githubusercontent.com (raw.githubusercontent.com)|185.199.108.133|:443... connected.\n",
            "HTTP request sent, awaiting response... 200 OK\n",
            "Length: 756983 (739K) [text/plain]\n",
            "Saving to: ‘val_data.json’\n",
            "\n",
            "val_data.json       100%[===================>] 739.24K  --.-KB/s    in 0.006s  \n",
            "\n",
            "2023-04-17 19:53:36 (117 MB/s) - ‘val_data.json’ saved [756983/756983]\n",
            "\n",
            "--2023-04-17 19:53:36--  https://raw.githubusercontent.com/AkshayIyer/CS8803_MLC_Project/main/dagnn_config.yml\n",
            "Resolving raw.githubusercontent.com (raw.githubusercontent.com)... 185.199.109.133, 185.199.111.133, 185.199.108.133, ...\n",
            "Connecting to raw.githubusercontent.com (raw.githubusercontent.com)|185.199.109.133|:443... connected.\n",
            "HTTP request sent, awaiting response... 200 OK\n",
            "Length: 2551 (2.5K) [text/plain]\n",
            "Saving to: ‘dagnn_config.yml’\n",
            "\n",
            "dagnn_config.yml    100%[===================>]   2.49K  --.-KB/s    in 0s      \n",
            "\n",
            "2023-04-17 19:53:36 (37.9 MB/s) - ‘dagnn_config.yml’ saved [2551/2551]\n",
            "\n"
          ]
        }
      ]
    },
    {
      "cell_type": "markdown",
      "source": [
        "Install some additional dependencies to handle the data"
      ],
      "metadata": {
        "id": "vdehHcRixYVN"
      }
    },
    {
      "cell_type": "markdown",
      "source": [
        "## **Training**"
      ],
      "metadata": {
        "id": "G1Nji_7TAQp_"
      }
    },
    {
      "cell_type": "markdown",
      "source": [
        "### Run model training with MP data\n"
      ],
      "metadata": {
        "id": "c0IoRVFsmbmT"
      }
    },
    {
      "cell_type": "code",
      "source": [
        "!python scripts/main.py --run_mode=train --config_path=configs/dagnn_config.yml"
      ],
      "metadata": {
        "id": "QZ1gMkhLmiFV",
        "pycharm": {
          "is_executing": true
        },
        "colab": {
          "base_uri": "https://localhost:8080/"
        },
        "outputId": "2b17eda9-bc23-4515-8440-750a21d48076"
      },
      "execution_count": null,
      "outputs": [
        {
          "output_type": "stream",
          "name": "stdout",
          "text": [
            "INFO:root:Train dataset found at data/dielectric/train_data.json\n",
            "INFO:root:Processing device: cpu\n",
            "INFO:root:Reading one JSON file for multiple structures.\n",
            "INFO:root:Loading json file as dict (this might take a while for large json file size).\n",
            "INFO:root:Converting data to standardized form for downstream processing.\n",
            "100% 5368/5368 [00:00<00:00, 37175.96it/s]\n",
            "INFO:root:Getting torch_geometric.data.Data() objects.\n",
            "100% 5368/5368 [00:06<00:00, 817.86it/s]\n",
            "INFO:root:Generating node features...\n",
            "INFO:root:Generating edge features...\n",
            "INFO:root:Processed train data saved successfully.\n",
            "INFO:root:Train dataset found at data/dielectric/val_data.json\n",
            "INFO:root:Processing device: cpu\n",
            "INFO:root:Reading one JSON file for multiple structures.\n",
            "INFO:root:Loading json file as dict (this might take a while for large json file size).\n",
            "INFO:root:Converting data to standardized form for downstream processing.\n",
            "100% 671/671 [00:00<00:00, 33629.81it/s]\n",
            "INFO:root:Getting torch_geometric.data.Data() objects.\n",
            "100% 671/671 [00:01<00:00, 570.15it/s]\n",
            "INFO:root:Generating node features...\n",
            "INFO:root:Generating edge features...\n",
            "INFO:root:Processed val data saved successfully.\n",
            "INFO:root:Train dataset found at data/dielectric/test_data.json\n",
            "INFO:root:Processing device: cpu\n",
            "INFO:root:Reading one JSON file for multiple structures.\n",
            "INFO:root:Loading json file as dict (this might take a while for large json file size).\n",
            "INFO:root:Converting data to standardized form for downstream processing.\n",
            "100% 671/671 [00:00<00:00, 23622.84it/s]\n",
            "INFO:root:Getting torch_geometric.data.Data() objects.\n",
            "100% 671/671 [00:02<00:00, 229.92it/s]\n",
            "INFO:root:Generating node features...\n",
            "INFO:root:Generating edge features...\n",
            "INFO:root:Processed test data saved successfully.\n",
            "INFO:root:GPU is available: True, Quantity: 1\n",
            "INFO:root:Dataset used: {'train': StructureDataset(5368), 'val': StructureDataset(671), 'test': StructureDataset(671)}\n",
            "INFO:root:Starting regular training\n",
            "INFO:root:running for 250 epochs on DAGNN model\n",
            "INFO:root:Epoch: 0000, Learning Rate: 0.002000, Training Error: 0.46191, Val Error: 0.21756, Time per epoch (s): 2.99865\n",
            "INFO:root:Epoch: 0005, Learning Rate: 0.002000, Training Error: 0.16737, Val Error: 0.15925, Time per epoch (s): 1.10606\n",
            "INFO:root:Epoch: 0010, Learning Rate: 0.002000, Training Error: 0.16354, Val Error: 0.16844, Time per epoch (s): 1.06611\n",
            "INFO:root:Epoch: 0015, Learning Rate: 0.002000, Training Error: 0.15892, Val Error: 0.15662, Time per epoch (s): 1.05185\n",
            "INFO:root:Epoch: 0020, Learning Rate: 0.002000, Training Error: 0.15387, Val Error: 0.15244, Time per epoch (s): 1.06729\n",
            "INFO:root:Epoch: 0025, Learning Rate: 0.002000, Training Error: 0.15098, Val Error: 0.15758, Time per epoch (s): 1.06115\n",
            "INFO:root:Epoch: 0030, Learning Rate: 0.002000, Training Error: 0.14951, Val Error: 0.15125, Time per epoch (s): 1.03338\n",
            "INFO:root:Epoch: 0035, Learning Rate: 0.002000, Training Error: 0.14724, Val Error: 0.15766, Time per epoch (s): 1.57433\n",
            "INFO:root:Epoch: 0040, Learning Rate: 0.002000, Training Error: 0.14596, Val Error: 0.15084, Time per epoch (s): 1.06192\n",
            "INFO:root:Epoch: 0045, Learning Rate: 0.002000, Training Error: 0.14615, Val Error: 0.14792, Time per epoch (s): 1.42730\n",
            "INFO:root:Epoch: 0050, Learning Rate: 0.002000, Training Error: 0.14386, Val Error: 0.15164, Time per epoch (s): 1.03669\n",
            "INFO:root:Epoch: 0055, Learning Rate: 0.002000, Training Error: 0.14299, Val Error: 0.14961, Time per epoch (s): 1.10645\n",
            "INFO:root:Epoch: 0060, Learning Rate: 0.002000, Training Error: 0.14272, Val Error: 0.15212, Time per epoch (s): 1.02285\n",
            "INFO:root:Epoch: 0065, Learning Rate: 0.002000, Training Error: 0.14267, Val Error: 0.15396, Time per epoch (s): 1.06061\n",
            "INFO:root:Epoch: 0070, Learning Rate: 0.002000, Training Error: 0.14138, Val Error: 0.15146, Time per epoch (s): 1.65443\n",
            "INFO:root:Epoch: 0075, Learning Rate: 0.002000, Training Error: 0.14170, Val Error: 0.14930, Time per epoch (s): 1.04456\n",
            "INFO:root:Epoch: 0080, Learning Rate: 0.002000, Training Error: 0.14058, Val Error: 0.15102, Time per epoch (s): 1.02886\n",
            "INFO:root:Epoch: 0085, Learning Rate: 0.002000, Training Error: 0.14113, Val Error: 0.15568, Time per epoch (s): 1.23328\n",
            "INFO:root:Epoch: 0090, Learning Rate: 0.002000, Training Error: 0.14034, Val Error: 0.15063, Time per epoch (s): 1.15811\n",
            "INFO:root:Epoch: 0095, Learning Rate: 0.002000, Training Error: 0.13915, Val Error: 0.15207, Time per epoch (s): 1.58167\n",
            "INFO:root:Epoch: 0100, Learning Rate: 0.002000, Training Error: 0.14095, Val Error: 0.15042, Time per epoch (s): 1.05028\n",
            "INFO:root:Epoch: 0105, Learning Rate: 0.002000, Training Error: 0.13861, Val Error: 0.15151, Time per epoch (s): 1.03458\n",
            "INFO:root:Epoch: 0110, Learning Rate: 0.002000, Training Error: 0.13948, Val Error: 0.15296, Time per epoch (s): 1.68489\n",
            "INFO:root:Epoch: 0115, Learning Rate: 0.002000, Training Error: 0.13849, Val Error: 0.15059, Time per epoch (s): 1.02371\n",
            "INFO:root:Epoch: 0120, Learning Rate: 0.002000, Training Error: 0.13925, Val Error: 0.15017, Time per epoch (s): 1.04807\n",
            "INFO:root:Epoch: 0125, Learning Rate: 0.002000, Training Error: 0.13864, Val Error: 0.15053, Time per epoch (s): 1.07758\n",
            "INFO:root:Epoch: 0130, Learning Rate: 0.002000, Training Error: 0.13777, Val Error: 0.15104, Time per epoch (s): 1.02450\n",
            "INFO:root:Epoch: 0135, Learning Rate: 0.002000, Training Error: 0.13735, Val Error: 0.15117, Time per epoch (s): 1.54165\n",
            "INFO:root:Epoch: 0140, Learning Rate: 0.002000, Training Error: 0.13696, Val Error: 0.15014, Time per epoch (s): 1.06874\n",
            "INFO:root:Epoch: 0145, Learning Rate: 0.002000, Training Error: 0.13775, Val Error: 0.15127, Time per epoch (s): 1.15654\n",
            "INFO:root:Epoch: 0150, Learning Rate: 0.002000, Training Error: 0.13726, Val Error: 0.15093, Time per epoch (s): 1.71240\n",
            "INFO:root:Epoch: 0155, Learning Rate: 0.002000, Training Error: 0.13651, Val Error: 0.15286, Time per epoch (s): 1.05388\n",
            "INFO:root:Epoch: 0160, Learning Rate: 0.002000, Training Error: 0.13636, Val Error: 0.15140, Time per epoch (s): 1.40725\n",
            "INFO:root:Epoch: 0165, Learning Rate: 0.002000, Training Error: 0.13561, Val Error: 0.15122, Time per epoch (s): 1.02483\n",
            "INFO:root:Epoch: 0170, Learning Rate: 0.002000, Training Error: 0.13589, Val Error: 0.15252, Time per epoch (s): 1.05172\n",
            "INFO:root:Epoch: 0175, Learning Rate: 0.002000, Training Error: 0.13533, Val Error: 0.15062, Time per epoch (s): 1.63012\n",
            "INFO:root:Epoch: 0180, Learning Rate: 0.002000, Training Error: 0.13649, Val Error: 0.15310, Time per epoch (s): 1.03400\n",
            "INFO:root:Epoch: 0185, Learning Rate: 0.002000, Training Error: 0.13505, Val Error: 0.15441, Time per epoch (s): 1.02175\n",
            "INFO:root:Epoch: 0190, Learning Rate: 0.002000, Training Error: 0.13467, Val Error: 0.15130, Time per epoch (s): 1.39086\n",
            "INFO:root:Epoch: 0195, Learning Rate: 0.002000, Training Error: 0.13521, Val Error: 0.15662, Time per epoch (s): 1.05916\n",
            "INFO:root:Epoch: 0200, Learning Rate: 0.001600, Training Error: 0.13360, Val Error: 0.15095, Time per epoch (s): 1.70704\n",
            "INFO:root:Epoch: 0205, Learning Rate: 0.001600, Training Error: 0.13377, Val Error: 0.15439, Time per epoch (s): 1.02925\n",
            "INFO:root:Epoch: 0210, Learning Rate: 0.001600, Training Error: 0.13415, Val Error: 0.15184, Time per epoch (s): 1.04560\n",
            "INFO:root:Epoch: 0215, Learning Rate: 0.001600, Training Error: 0.13357, Val Error: 0.15183, Time per epoch (s): 1.65603\n",
            "INFO:root:Epoch: 0220, Learning Rate: 0.001600, Training Error: 0.13332, Val Error: 0.15119, Time per epoch (s): 1.02348\n",
            "INFO:root:Epoch: 0225, Learning Rate: 0.001280, Training Error: 0.13314, Val Error: 0.15099, Time per epoch (s): 1.04689\n",
            "INFO:root:Epoch: 0230, Learning Rate: 0.001280, Training Error: 0.13290, Val Error: 0.15464, Time per epoch (s): 1.04256\n",
            "INFO:root:Epoch: 0235, Learning Rate: 0.001280, Training Error: 0.13243, Val Error: 0.15214, Time per epoch (s): 1.00922\n",
            "INFO:root:Epoch: 0240, Learning Rate: 0.001280, Training Error: 0.13272, Val Error: 0.15227, Time per epoch (s): 1.54273\n",
            "INFO:root:Epoch: 0245, Learning Rate: 0.001280, Training Error: 0.13208, Val Error: 0.15330, Time per epoch (s): 1.06150\n"
          ]
        }
      ]
    },
    {
      "cell_type": "code",
      "source": [
        "import matplotlib.pyplot as plt\n",
        "import pandas as pd\n",
        "import os\n",
        "import numpy as np"
      ],
      "metadata": {
        "id": "24UACs-ipPwe"
      },
      "execution_count": null,
      "outputs": []
    },
    {
      "cell_type": "code",
      "source": [
        "# https://www.geeksforgeeks.org/python-list-files-in-a-directory/\n",
        "folder = os.listdir('./results')[0]\n",
        "test_df = pd.read_csv('./results/' + folder + '/test_predictions.csv')\n",
        "print(\"MAE: {}\".format(\n",
        "    np.mean(np.abs(test_df['prediction'] - test_df['target']))))"
      ],
      "metadata": {
        "id": "rgr4Y2N2fYfC",
        "colab": {
          "base_uri": "https://localhost:8080/"
        },
        "outputId": "b0efe4b5-3fc5-4405-9002-0e086dcddbbf"
      },
      "execution_count": null,
      "outputs": [
        {
          "output_type": "stream",
          "name": "stdout",
          "text": [
            "MAE: 0.1637962648955224\n"
          ]
        }
      ]
    },
    {
      "cell_type": "code",
      "source": [
        "plt.hist2d(test_df['target'], test_df['prediction'], bins = 50)\n",
        "plt.xlabel(\"Target (log eV)\")\n",
        "plt.ylabel(\"Prediction (log eV)\");"
      ],
      "metadata": {
        "id": "WylgOk2af7ta",
        "colab": {
          "base_uri": "https://localhost:8080/",
          "height": 449
        },
        "outputId": "2d1f1600-2c54-4782-81cc-cf112835220c"
      },
      "execution_count": null,
      "outputs": [
        {
          "output_type": "display_data",
          "data": {
            "text/plain": [
              "<Figure size 640x480 with 1 Axes>"
            ],
            "image/png": "[encoded data removed]"
          },
          "metadata": {}
        }
      ]
    }
  ]
}